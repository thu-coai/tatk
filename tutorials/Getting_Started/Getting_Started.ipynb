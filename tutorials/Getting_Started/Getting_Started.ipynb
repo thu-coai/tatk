{
  "nbformat": 4,
  "nbformat_minor": 0,
  "metadata": {
    "kernelspec": {
      "name": "python3",
      "display_name": "Python 3"
    },
    "colab": {
      "name": "Getting Started.ipynb",
      "version": "0.3.2",
      "provenance": []
    }
  },
  "cells": [
    {
      "cell_type": "markdown",
      "metadata": {
        "id": "pVDdXl-AzLsW",
        "colab_type": "text"
      },
      "source": [
        "# Getting Started\n",
        "\n",
        "In this tutorial, you will know how to\n",
        "- use the models in **tatk** to build a dialog agent.\n",
        "- build a simulator to chat with the agent.\n",
        "- try different module combinations.\n",
        "\n",
        "Let's get started!"
      ]
    },
    {
      "cell_type": "code",
      "metadata": {
        "id": "m5YgCJuLzkOv",
        "colab_type": "code",
        "colab": {
          "base_uri": "https://localhost:8080/",
          "height": 1000
        },
        "outputId": "c8998170-cbd4-4ead-b44c-985157c6ba23"
      },
      "source": [
        "# first install tatk and restart the notebook\n",
        "! rm -rf tatk && git clone https://github.com/thu-coai/tatk.git && cd tatk && pip install -e ."
      ],
      "execution_count": 7,
      "outputs": [
        {
          "output_type": "stream",
          "text": [
            "Cloning into 'tatk'...\n",
            "remote: Enumerating objects: 125, done.\u001b[K\n",
            "remote: Counting objects:   0% (1/125)\u001b[K\rremote: Counting objects:   1% (2/125)\u001b[K\rremote: Counting objects:   2% (3/125)\u001b[K\rremote: Counting objects:   3% (4/125)\u001b[K\rremote: Counting objects:   4% (5/125)\u001b[K\rremote: Counting objects:   5% (7/125)\u001b[K\rremote: Counting objects:   6% (8/125)\u001b[K\rremote: Counting objects:   7% (9/125)\u001b[K\rremote: Counting objects:   8% (10/125)\u001b[K\rremote: Counting objects:   9% (12/125)\u001b[K\rremote: Counting objects:  10% (13/125)\u001b[K\rremote: Counting objects:  11% (14/125)\u001b[K\rremote: Counting objects:  12% (15/125)\u001b[K\rremote: Counting objects:  13% (17/125)\u001b[K\rremote: Counting objects:  14% (18/125)\u001b[K\rremote: Counting objects:  15% (19/125)\u001b[K\rremote: Counting objects:  16% (20/125)\u001b[K\rremote: Counting objects:  17% (22/125)\u001b[K\rremote: Counting objects:  18% (23/125)\u001b[K\rremote: Counting objects:  19% (24/125)\u001b[K\rremote: Counting objects:  20% (25/125)\u001b[K\rremote: Counting objects:  21% (27/125)\u001b[K\rremote: Counting objects:  22% (28/125)\u001b[K\rremote: Counting objects:  23% (29/125)\u001b[K\rremote: Counting objects:  24% (30/125)\u001b[K\rremote: Counting objects:  25% (32/125)\u001b[K\rremote: Counting objects:  26% (33/125)\u001b[K\rremote: Counting objects:  27% (34/125)\u001b[K\rremote: Counting objects:  28% (35/125)\u001b[K\rremote: Counting objects:  29% (37/125)\u001b[K\rremote: Counting objects:  30% (38/125)\u001b[K\rremote: Counting objects:  31% (39/125)\u001b[K\rremote: Counting objects:  32% (40/125)\u001b[K\rremote: Counting objects:  33% (42/125)\u001b[K\rremote: Counting objects:  34% (43/125)\u001b[K\rremote: Counting objects:  35% (44/125)\u001b[K\rremote: Counting objects:  36% (45/125)\u001b[K\rremote: Counting objects:  37% (47/125)\u001b[K\rremote: Counting objects:  38% (48/125)\u001b[K\rremote: Counting objects:  39% (49/125)\u001b[K\rremote: Counting objects:  40% (50/125)\u001b[K\rremote: Counting objects:  41% (52/125)\u001b[K\rremote: Counting objects:  42% (53/125)\u001b[K\rremote: Counting objects:  43% (54/125)\u001b[K\rremote: Counting objects:  44% (55/125)\u001b[K\rremote: Counting objects:  45% (57/125)\u001b[K\rremote: Counting objects:  46% (58/125)\u001b[K\rremote: Counting objects:  47% (59/125)\u001b[K\rremote: Counting objects:  48% (60/125)\u001b[K\rremote: Counting objects:  49% (62/125)\u001b[K\rremote: Counting objects:  50% (63/125)\u001b[K\rremote: Counting objects:  51% (64/125)\u001b[K\rremote: Counting objects:  52% (65/125)\u001b[K\rremote: Counting objects:  53% (67/125)\u001b[K\rremote: Counting objects:  54% (68/125)\u001b[K\rremote: Counting objects:  55% (69/125)\u001b[K\rremote: Counting objects:  56% (70/125)\u001b[K\rremote: Counting objects:  57% (72/125)\u001b[K\rremote: Counting objects:  58% (73/125)\u001b[K\rremote: Counting objects:  59% (74/125)\u001b[K\rremote: Counting objects:  60% (75/125)\u001b[K\rremote: Counting objects:  61% (77/125)\u001b[K\rremote: Counting objects:  62% (78/125)\u001b[K\rremote: Counting objects:  63% (79/125)\u001b[K\rremote: Counting objects:  64% (80/125)\u001b[K\rremote: Counting objects:  65% (82/125)\u001b[K\rremote: Counting objects:  66% (83/125)\u001b[K\rremote: Counting objects:  67% (84/125)\u001b[K\rremote: Counting objects:  68% (85/125)\u001b[K\rremote: Counting objects:  69% (87/125)\u001b[K\rremote: Counting objects:  70% (88/125)\u001b[K\rremote: Counting objects:  71% (89/125)\u001b[K\rremote: Counting objects:  72% (90/125)\u001b[K\rremote: Counting objects:  73% (92/125)\u001b[K\rremote: Counting objects:  74% (93/125)\u001b[K\rremote: Counting objects:  75% (94/125)\u001b[K\rremote: Counting objects:  76% (95/125)\u001b[K\rremote: Counting objects:  77% (97/125)\u001b[K\rremote: Counting objects:  78% (98/125)\u001b[K\rremote: Counting objects:  79% (99/125)\u001b[K\rremote: Counting objects:  80% (100/125)\u001b[K\rremote: Counting objects:  81% (102/125)\u001b[K\rremote: Counting objects:  82% (103/125)\u001b[K\rremote: Counting objects:  83% (104/125)\u001b[K\rremote: Counting objects:  84% (105/125)\u001b[K\rremote: Counting objects:  85% (107/125)\u001b[K\rremote: Counting objects:  86% (108/125)\u001b[K\rremote: Counting objects:  87% (109/125)\u001b[K\rremote: Counting objects:  88% (110/125)\u001b[K\rremote: Counting objects:  89% (112/125)\u001b[K\rremote: Counting objects:  90% (113/125)\u001b[K\rremote: Counting objects:  91% (114/125)\u001b[K\rremote: Counting objects:  92% (115/125)\u001b[K\rremote: Counting objects:  93% (117/125)\u001b[K\rremote: Counting objects:  94% (118/125)\u001b[K\rremote: Counting objects:  95% (119/125)\u001b[K\rremote: Counting objects:  96% (120/125)\u001b[K\rremote: Counting objects:  97% (122/125)\u001b[K\rremote: Counting objects:  98% (123/125)\u001b[K\rremote: Counting objects:  99% (124/125)\u001b[K\rremote: Counting objects: 100% (125/125)\u001b[K\rremote: Counting objects: 100% (125/125), done.\u001b[K\n",
            "remote: Compressing objects:   1% (1/93)\u001b[K\rremote: Compressing objects:   2% (2/93)\u001b[K\rremote: Compressing objects:   3% (3/93)\u001b[K\rremote: Compressing objects:   4% (4/93)\u001b[K\rremote: Compressing objects:   5% (5/93)\u001b[K\rremote: Compressing objects:   6% (6/93)\u001b[K\rremote: Compressing objects:   7% (7/93)\u001b[K\rremote: Compressing objects:   8% (8/93)\u001b[K\rremote: Compressing objects:   9% (9/93)\u001b[K\rremote: Compressing objects:  10% (10/93)\u001b[K\rremote: Compressing objects:  11% (11/93)\u001b[K\rremote: Compressing objects:  12% (12/93)\u001b[K\rremote: Compressing objects:  13% (13/93)\u001b[K\rremote: Compressing objects:  15% (14/93)\u001b[K\rremote: Compressing objects:  16% (15/93)\u001b[K\rremote: Compressing objects:  17% (16/93)\u001b[K\rremote: Compressing objects:  18% (17/93)\u001b[K\rremote: Compressing objects:  19% (18/93)\u001b[K\rremote: Compressing objects:  20% (19/93)\u001b[K\rremote: Compressing objects:  21% (20/93)\u001b[K\rremote: Compressing objects:  22% (21/93)\u001b[K\rremote: Compressing objects:  23% (22/93)\u001b[K\rremote: Compressing objects:  24% (23/93)\u001b[K\rremote: Compressing objects:  25% (24/93)\u001b[K\rremote: Compressing objects:  26% (25/93)\u001b[K\rremote: Compressing objects:  27% (26/93)\u001b[K\rremote: Compressing objects:  29% (27/93)\u001b[K\rremote: Compressing objects:  30% (28/93)\u001b[K\rremote: Compressing objects:  31% (29/93)\u001b[K\rremote: Compressing objects:  32% (30/93)\u001b[K\rremote: Compressing objects:  33% (31/93)\u001b[K\rremote: Compressing objects:  34% (32/93)\u001b[K\rremote: Compressing objects:  35% (33/93)\u001b[K\rremote: Compressing objects:  36% (34/93)\u001b[K\rremote: Compressing objects:  37% (35/93)\u001b[K\rremote: Compressing objects:  38% (36/93)\u001b[K\rremote: Compressing objects:  39% (37/93)\u001b[K\rremote: Compressing objects:  40% (38/93)\u001b[K\rremote: Compressing objects:  41% (39/93)\u001b[K\rremote: Compressing objects:  43% (40/93)\u001b[K\rremote: Compressing objects:  44% (41/93)\u001b[K\rremote: Compressing objects:  45% (42/93)\u001b[K\rremote: Compressing objects:  46% (43/93)\u001b[K\rremote: Compressing objects:  47% (44/93)\u001b[K\rremote: Compressing objects:  48% (45/93)\u001b[K\rremote: Compressing objects:  49% (46/93)\u001b[K\rremote: Compressing objects:  50% (47/93)\u001b[K\rremote: Compressing objects:  51% (48/93)\u001b[K\rremote: Compressing objects:  52% (49/93)\u001b[K\rremote: Compressing objects:  53% (50/93)\u001b[K\rremote: Compressing objects:  54% (51/93)\u001b[K\rremote: Compressing objects:  55% (52/93)\u001b[K\rremote: Compressing objects:  56% (53/93)\u001b[K\rremote: Compressing objects:  58% (54/93)\u001b[K\rremote: Compressing objects:  59% (55/93)\u001b[K\rremote: Compressing objects:  60% (56/93)\u001b[K\rremote: Compressing objects:  61% (57/93)\u001b[K\rremote: Compressing objects:  62% (58/93)\u001b[K\rremote: Compressing objects:  63% (59/93)\u001b[K\rremote: Compressing objects:  64% (60/93)\u001b[K\rremote: Compressing objects:  65% (61/93)\u001b[K\rremote: Compressing objects:  66% (62/93)\u001b[K\rremote: Compressing objects:  67% (63/93)\u001b[K\rremote: Compressing objects:  68% (64/93)\u001b[K\rremote: Compressing objects:  69% (65/93)\u001b[K\rremote: Compressing objects:  70% (66/93)\u001b[K\rremote: Compressing objects:  72% (67/93)\u001b[K\rremote: Compressing objects:  73% (68/93)\u001b[K\rremote: Compressing objects:  74% (69/93)\u001b[K\rremote: Compressing objects:  75% (70/93)\u001b[K\rremote: Compressing objects:  76% (71/93)\u001b[K\rremote: Compressing objects:  77% (72/93)\u001b[K\rremote: Compressing objects:  78% (73/93)\u001b[K\rremote: Compressing objects:  79% (74/93)\u001b[K\rremote: Compressing objects:  80% (75/93)\u001b[K\rremote: Compressing objects:  81% (76/93)\u001b[K\rremote: Compressing objects:  82% (77/93)\u001b[K\rremote: Compressing objects:  83% (78/93)\u001b[K\rremote: Compressing objects:  84% (79/93)\u001b[K\rremote: Compressing objects:  86% (80/93)\u001b[K\rremote: Compressing objects:  87% (81/93)\u001b[K\rremote: Compressing objects:  88% (82/93)\u001b[K\rremote: Compressing objects:  89% (83/93)\u001b[K\rremote: Compressing objects:  90% (84/93)\u001b[K\rremote: Compressing objects:  91% (85/93)\u001b[K\rremote: Compressing objects:  92% (86/93)\u001b[K\rremote: Compressing objects:  93% (87/93)\u001b[K\rremote: Compressing objects:  94% (88/93)\u001b[K\rremote: Compressing objects:  95% (89/93)\u001b[K\rremote: Compressing objects:  96% (90/93)\u001b[K\rremote: Compressing objects:  97% (91/93)\u001b[K\rremote: Compressing objects:  98% (92/93)\u001b[K\rremote: Compressing objects: 100% (93/93)\u001b[K\rremote: Compressing objects: 100% (93/93), done.\u001b[K\n",
            "Receiving objects:   0% (1/2278)   \rReceiving objects:   1% (23/2278)   \rReceiving objects:   2% (46/2278)   \rReceiving objects:   3% (69/2278)   \rReceiving objects:   4% (92/2278)   \rReceiving objects:   5% (114/2278)   \rReceiving objects:   6% (137/2278)   \rReceiving objects:   7% (160/2278)   \rReceiving objects:   8% (183/2278)   \rReceiving objects:   9% (206/2278)   \rReceiving objects:  10% (228/2278)   \rReceiving objects:  11% (251/2278)   \rReceiving objects:  12% (274/2278)   \rReceiving objects:  13% (297/2278)   \rReceiving objects:  14% (319/2278)   \rReceiving objects:  15% (342/2278)   \rReceiving objects:  16% (365/2278)   \rReceiving objects:  17% (388/2278)   \rReceiving objects:  18% (411/2278)   \rReceiving objects:  19% (433/2278)   \rReceiving objects:  20% (456/2278)   \rReceiving objects:  21% (479/2278)   \rReceiving objects:  22% (502/2278)   \rReceiving objects:  23% (524/2278)   \rReceiving objects:  24% (547/2278), 17.06 MiB | 34.11 MiB/s   \rReceiving objects:  25% (570/2278), 17.06 MiB | 34.11 MiB/s   \rReceiving objects:  26% (593/2278), 17.06 MiB | 34.11 MiB/s   \rReceiving objects:  27% (616/2278), 17.06 MiB | 34.11 MiB/s   \rReceiving objects:  28% (638/2278), 17.06 MiB | 34.11 MiB/s   \rReceiving objects:  29% (661/2278), 17.06 MiB | 34.11 MiB/s   \rReceiving objects:  30% (684/2278), 17.06 MiB | 34.11 MiB/s   \rReceiving objects:  31% (707/2278), 17.06 MiB | 34.11 MiB/s   \rReceiving objects:  32% (729/2278), 17.06 MiB | 34.11 MiB/s   \rReceiving objects:  33% (752/2278), 17.06 MiB | 34.11 MiB/s   \rReceiving objects:  34% (775/2278), 17.06 MiB | 34.11 MiB/s   \rReceiving objects:  35% (798/2278), 17.06 MiB | 34.11 MiB/s   \rReceiving objects:  36% (821/2278), 17.06 MiB | 34.11 MiB/s   \rReceiving objects:  37% (843/2278), 17.06 MiB | 34.11 MiB/s   \rReceiving objects:  38% (866/2278), 17.06 MiB | 34.11 MiB/s   \rReceiving objects:  39% (889/2278), 17.06 MiB | 34.11 MiB/s   \rReceiving objects:  40% (912/2278), 17.06 MiB | 34.11 MiB/s   \rReceiving objects:  41% (934/2278), 17.06 MiB | 34.11 MiB/s   \rReceiving objects:  42% (957/2278), 17.06 MiB | 34.11 MiB/s   \rReceiving objects:  43% (980/2278), 17.06 MiB | 34.11 MiB/s   \rReceiving objects:  44% (1003/2278), 17.06 MiB | 34.11 MiB/s   \rReceiving objects:  45% (1026/2278), 17.06 MiB | 34.11 MiB/s   \rReceiving objects:  46% (1048/2278), 17.06 MiB | 34.11 MiB/s   \rReceiving objects:  47% (1071/2278), 17.06 MiB | 34.11 MiB/s   \rReceiving objects:  48% (1094/2278), 17.06 MiB | 34.11 MiB/s   \rReceiving objects:  49% (1117/2278), 17.06 MiB | 34.11 MiB/s   \rReceiving objects:  50% (1139/2278), 17.06 MiB | 34.11 MiB/s   \rReceiving objects:  51% (1162/2278), 17.06 MiB | 34.11 MiB/s   \rReceiving objects:  52% (1185/2278), 17.06 MiB | 34.11 MiB/s   \rReceiving objects:  53% (1208/2278), 17.06 MiB | 34.11 MiB/s   \rReceiving objects:  54% (1231/2278), 17.06 MiB | 34.11 MiB/s   \rReceiving objects:  55% (1253/2278), 17.06 MiB | 34.11 MiB/s   \rReceiving objects:  56% (1276/2278), 17.06 MiB | 34.11 MiB/s   \rReceiving objects:  57% (1299/2278), 17.06 MiB | 34.11 MiB/s   \rReceiving objects:  58% (1322/2278), 17.06 MiB | 34.11 MiB/s   \rReceiving objects:  59% (1345/2278), 17.06 MiB | 34.11 MiB/s   \rReceiving objects:  60% (1367/2278), 17.06 MiB | 34.11 MiB/s   \rReceiving objects:  61% (1390/2278), 17.06 MiB | 34.11 MiB/s   \rReceiving objects:  62% (1413/2278), 17.06 MiB | 34.11 MiB/s   \rReceiving objects:  63% (1436/2278), 17.06 MiB | 34.11 MiB/s   \rReceiving objects:  64% (1458/2278), 17.06 MiB | 34.11 MiB/s   \rReceiving objects:  65% (1481/2278), 17.06 MiB | 34.11 MiB/s   \rReceiving objects:  66% (1504/2278), 17.06 MiB | 34.11 MiB/s   \rReceiving objects:  67% (1527/2278), 17.06 MiB | 34.11 MiB/s   \rReceiving objects:  68% (1550/2278), 17.06 MiB | 34.11 MiB/s   \rReceiving objects:  69% (1572/2278), 17.06 MiB | 34.11 MiB/s   \rReceiving objects:  70% (1595/2278), 17.06 MiB | 34.11 MiB/s   \rReceiving objects:  71% (1618/2278), 17.06 MiB | 34.11 MiB/s   \rReceiving objects:  72% (1641/2278), 17.06 MiB | 34.11 MiB/s   \rReceiving objects:  73% (1663/2278), 17.06 MiB | 34.11 MiB/s   \rReceiving objects:  74% (1686/2278), 17.06 MiB | 34.11 MiB/s   \rReceiving objects:  75% (1709/2278), 17.06 MiB | 34.11 MiB/s   \rReceiving objects:  76% (1732/2278), 17.06 MiB | 34.11 MiB/s   \rReceiving objects:  77% (1755/2278), 17.06 MiB | 34.11 MiB/s   \rReceiving objects:  78% (1777/2278), 17.06 MiB | 34.11 MiB/s   \rReceiving objects:  79% (1800/2278), 17.06 MiB | 34.11 MiB/s   \rReceiving objects:  80% (1823/2278), 17.06 MiB | 34.11 MiB/s   \rReceiving objects:  81% (1846/2278), 17.06 MiB | 34.11 MiB/s   \rReceiving objects:  82% (1868/2278), 17.06 MiB | 34.11 MiB/s   \rReceiving objects:  83% (1891/2278), 17.06 MiB | 34.11 MiB/s   \rReceiving objects:  84% (1914/2278), 17.06 MiB | 34.11 MiB/s   \rReceiving objects:  85% (1937/2278), 17.06 MiB | 34.11 MiB/s   \rReceiving objects:  86% (1960/2278), 17.06 MiB | 34.11 MiB/s   \rReceiving objects:  87% (1982/2278), 17.06 MiB | 34.11 MiB/s   \rReceiving objects:  88% (2005/2278), 17.06 MiB | 34.11 MiB/s   \rReceiving objects:  89% (2028/2278), 17.06 MiB | 34.11 MiB/s   \rReceiving objects:  90% (2051/2278), 17.06 MiB | 34.11 MiB/s   \rReceiving objects:  91% (2073/2278), 17.06 MiB | 34.11 MiB/s   \rReceiving objects:  92% (2096/2278), 17.06 MiB | 34.11 MiB/s   \rReceiving objects:  93% (2119/2278), 17.06 MiB | 34.11 MiB/s   \rReceiving objects:  94% (2142/2278), 17.06 MiB | 34.11 MiB/s   \rremote: Total 2278 (delta 61), reused 62 (delta 31), pack-reused 2153\u001b[K\n",
            "Receiving objects: 100% (2278/2278), 19.10 MiB | 32.76 MiB/s, done.\n",
            "Resolving deltas: 100% (1254/1254), done.\n",
            "Obtaining file:///content/tatk\n",
            "Requirement already satisfied: nltk>=3.4 in /usr/local/lib/python3.6/dist-packages (from tatk==0.0.1.dev20190812) (3.4.4)\n",
            "Requirement already satisfied: tqdm>=4.30 in /usr/local/lib/python3.6/dist-packages (from tatk==0.0.1.dev20190812) (4.33.0)\n",
            "Requirement already satisfied: checksumdir>=1.1 in /usr/local/lib/python3.6/dist-packages (from tatk==0.0.1.dev20190812) (1.1.7)\n",
            "Requirement already satisfied: visdom in /usr/local/lib/python3.6/dist-packages (from tatk==0.0.1.dev20190812) (0.1.8.8)\n",
            "Requirement already satisfied: Pillow in /usr/local/lib/python3.6/dist-packages (from tatk==0.0.1.dev20190812) (4.3.0)\n",
            "Requirement already satisfied: future in /usr/local/lib/python3.6/dist-packages (from tatk==0.0.1.dev20190812) (0.16.0)\n",
            "Requirement already satisfied: torch in /usr/local/lib/python3.6/dist-packages (from tatk==0.0.1.dev20190812) (1.1.0)\n",
            "Requirement already satisfied: numpy>=1.15.0 in /usr/local/lib/python3.6/dist-packages (from tatk==0.0.1.dev20190812) (1.16.4)\n",
            "Requirement already satisfied: scipy in /usr/local/lib/python3.6/dist-packages (from tatk==0.0.1.dev20190812) (1.3.0)\n",
            "Requirement already satisfied: scikit-learn==0.20.3 in /usr/local/lib/python3.6/dist-packages (from tatk==0.0.1.dev20190812) (0.20.3)\n",
            "Requirement already satisfied: pytorch_pretrained_bert in /usr/local/lib/python3.6/dist-packages (from tatk==0.0.1.dev20190812) (0.6.2)\n",
            "Requirement already satisfied: tensorflow==1.14 in /usr/local/lib/python3.6/dist-packages (from tatk==0.0.1.dev20190812) (1.14.0)\n",
            "Requirement already satisfied: tensorboard>=1.14.0 in /usr/local/lib/python3.6/dist-packages (from tatk==0.0.1.dev20190812) (1.14.0)\n",
            "Requirement already satisfied: tensorboardX==1.7 in /usr/local/lib/python3.6/dist-packages (from tatk==0.0.1.dev20190812) (1.7)\n",
            "Requirement already satisfied: requests in /usr/local/lib/python3.6/dist-packages (from tatk==0.0.1.dev20190812) (2.21.0)\n",
            "Requirement already satisfied: six in /usr/local/lib/python3.6/dist-packages (from nltk>=3.4->tatk==0.0.1.dev20190812) (1.12.0)\n",
            "Requirement already satisfied: torchfile in /usr/local/lib/python3.6/dist-packages (from visdom->tatk==0.0.1.dev20190812) (0.1.0)\n",
            "Requirement already satisfied: websocket-client in /usr/local/lib/python3.6/dist-packages (from visdom->tatk==0.0.1.dev20190812) (0.56.0)\n",
            "Requirement already satisfied: tornado in /usr/local/lib/python3.6/dist-packages (from visdom->tatk==0.0.1.dev20190812) (4.5.3)\n",
            "Requirement already satisfied: pyzmq in /usr/local/lib/python3.6/dist-packages (from visdom->tatk==0.0.1.dev20190812) (17.0.0)\n",
            "Requirement already satisfied: olefile in /usr/local/lib/python3.6/dist-packages (from Pillow->tatk==0.0.1.dev20190812) (0.46)\n",
            "Requirement already satisfied: boto3 in /usr/local/lib/python3.6/dist-packages (from pytorch_pretrained_bert->tatk==0.0.1.dev20190812) (1.9.202)\n",
            "Requirement already satisfied: regex in /usr/local/lib/python3.6/dist-packages (from pytorch_pretrained_bert->tatk==0.0.1.dev20190812) (2019.6.8)\n",
            "Requirement already satisfied: gast>=0.2.0 in /usr/local/lib/python3.6/dist-packages (from tensorflow==1.14->tatk==0.0.1.dev20190812) (0.2.2)\n",
            "Requirement already satisfied: keras-preprocessing>=1.0.5 in /usr/local/lib/python3.6/dist-packages (from tensorflow==1.14->tatk==0.0.1.dev20190812) (1.1.0)\n",
            "Requirement already satisfied: tensorflow-estimator<1.15.0rc0,>=1.14.0rc0 in /usr/local/lib/python3.6/dist-packages (from tensorflow==1.14->tatk==0.0.1.dev20190812) (1.14.0)\n",
            "Requirement already satisfied: termcolor>=1.1.0 in /usr/local/lib/python3.6/dist-packages (from tensorflow==1.14->tatk==0.0.1.dev20190812) (1.1.0)\n",
            "Requirement already satisfied: grpcio>=1.8.6 in /usr/local/lib/python3.6/dist-packages (from tensorflow==1.14->tatk==0.0.1.dev20190812) (1.15.0)\n",
            "Requirement already satisfied: protobuf>=3.6.1 in /usr/local/lib/python3.6/dist-packages (from tensorflow==1.14->tatk==0.0.1.dev20190812) (3.7.1)\n",
            "Requirement already satisfied: wrapt>=1.11.1 in /usr/local/lib/python3.6/dist-packages (from tensorflow==1.14->tatk==0.0.1.dev20190812) (1.11.2)\n",
            "Requirement already satisfied: google-pasta>=0.1.6 in /usr/local/lib/python3.6/dist-packages (from tensorflow==1.14->tatk==0.0.1.dev20190812) (0.1.7)\n",
            "Requirement already satisfied: keras-applications>=1.0.6 in /usr/local/lib/python3.6/dist-packages (from tensorflow==1.14->tatk==0.0.1.dev20190812) (1.0.8)\n",
            "Requirement already satisfied: astor>=0.6.0 in /usr/local/lib/python3.6/dist-packages (from tensorflow==1.14->tatk==0.0.1.dev20190812) (0.8.0)\n",
            "Requirement already satisfied: wheel>=0.26 in /usr/local/lib/python3.6/dist-packages (from tensorflow==1.14->tatk==0.0.1.dev20190812) (0.33.4)\n",
            "Requirement already satisfied: absl-py>=0.7.0 in /usr/local/lib/python3.6/dist-packages (from tensorflow==1.14->tatk==0.0.1.dev20190812) (0.7.1)\n",
            "Requirement already satisfied: markdown>=2.6.8 in /usr/local/lib/python3.6/dist-packages (from tensorboard>=1.14.0->tatk==0.0.1.dev20190812) (3.1.1)\n",
            "Requirement already satisfied: setuptools>=41.0.0 in /usr/local/lib/python3.6/dist-packages (from tensorboard>=1.14.0->tatk==0.0.1.dev20190812) (41.0.1)\n",
            "Requirement already satisfied: werkzeug>=0.11.15 in /usr/local/lib/python3.6/dist-packages (from tensorboard>=1.14.0->tatk==0.0.1.dev20190812) (0.15.5)\n",
            "Requirement already satisfied: certifi>=2017.4.17 in /usr/local/lib/python3.6/dist-packages (from requests->tatk==0.0.1.dev20190812) (2019.6.16)\n",
            "Requirement already satisfied: idna<2.9,>=2.5 in /usr/local/lib/python3.6/dist-packages (from requests->tatk==0.0.1.dev20190812) (2.8)\n",
            "Requirement already satisfied: urllib3<1.25,>=1.21.1 in /usr/local/lib/python3.6/dist-packages (from requests->tatk==0.0.1.dev20190812) (1.24.3)\n",
            "Requirement already satisfied: chardet<3.1.0,>=3.0.2 in /usr/local/lib/python3.6/dist-packages (from requests->tatk==0.0.1.dev20190812) (3.0.4)\n",
            "Requirement already satisfied: s3transfer<0.3.0,>=0.2.0 in /usr/local/lib/python3.6/dist-packages (from boto3->pytorch_pretrained_bert->tatk==0.0.1.dev20190812) (0.2.1)\n",
            "Requirement already satisfied: jmespath<1.0.0,>=0.7.1 in /usr/local/lib/python3.6/dist-packages (from boto3->pytorch_pretrained_bert->tatk==0.0.1.dev20190812) (0.9.4)\n",
            "Requirement already satisfied: botocore<1.13.0,>=1.12.202 in /usr/local/lib/python3.6/dist-packages (from boto3->pytorch_pretrained_bert->tatk==0.0.1.dev20190812) (1.12.202)\n",
            "Requirement already satisfied: h5py in /usr/local/lib/python3.6/dist-packages (from keras-applications>=1.0.6->tensorflow==1.14->tatk==0.0.1.dev20190812) (2.8.0)\n",
            "Requirement already satisfied: docutils<0.15,>=0.10 in /usr/local/lib/python3.6/dist-packages (from botocore<1.13.0,>=1.12.202->boto3->pytorch_pretrained_bert->tatk==0.0.1.dev20190812) (0.14)\n",
            "Requirement already satisfied: python-dateutil<3.0.0,>=2.1; python_version >= \"2.7\" in /usr/local/lib/python3.6/dist-packages (from botocore<1.13.0,>=1.12.202->boto3->pytorch_pretrained_bert->tatk==0.0.1.dev20190812) (2.5.3)\n",
            "Installing collected packages: tatk\n",
            "  Found existing installation: tatk 0.0.1.dev20190812\n",
            "    Can't uninstall 'tatk'. No files were found to uninstall.\n",
            "  Running setup.py develop for tatk\n",
            "Successfully installed tatk\n"
          ],
          "name": "stdout"
        }
      ]
    },
    {
      "cell_type": "markdown",
      "metadata": {
        "id": "Ec2qTTc4zLsY",
        "colab_type": "text"
      },
      "source": [
        "## Build an agent\n",
        "\n",
        "We use the models adapted on [Multiwoz dataset](https://www.aclweb.org/anthology/D18-1547) to build our agent. This pipeline agent consists of NLU, DST, Policy and NLG modules.\n",
        "\n",
        "First, import some models:"
      ]
    },
    {
      "cell_type": "code",
      "metadata": {
        "id": "z1EUye0VzLsZ",
        "colab_type": "code",
        "colab": {}
      },
      "source": [
        "import sys\n",
        "import os\n",
        "# Agent\n",
        "from tatk.dialog_agent import PipelineAgent, BiSession\n",
        "# common import: tatk.$module.$model.$dataset\n",
        "from tatk.nlu.svm.multiwoz import SVMNLU\n",
        "from tatk.nlu.bert.multiwoz import BERTNLU\n",
        "from tatk.dst.rule.multiwoz import RuleDST\n",
        "from tatk.policy.rule.multiwoz import Rule\n",
        "from tatk.nlg.template.multiwoz import TemplateNLG"
      ],
      "execution_count": 0,
      "outputs": []
    },
    {
      "cell_type": "markdown",
      "metadata": {
        "id": "4blugP4xzLsc",
        "colab_type": "text"
      },
      "source": [
        "Then, create the models and build an agent:"
      ]
    },
    {
      "cell_type": "code",
      "metadata": {
        "id": "0cwV57AVzLsc",
        "colab_type": "code",
        "colab": {
          "base_uri": "https://localhost:8080/",
          "height": 68
        },
        "outputId": "496f0e2f-95a0-48c4-e502-718912cc3807"
      },
      "source": [
        "# svm nlu trained on usr sentence of multiwoz\n",
        "# go to README.md under `tatk/tatk/nlu/svm/multiwoz` for more information \n",
        "nlu = SVMNLU('usr',model_file=\"https://tatk-data.s3-ap-northeast-1.amazonaws.com/svm_multiwoz_usr.zip\")\n",
        "# simple rule DST\n",
        "dst = RuleDST()\n",
        "# rule policy\n",
        "policy = Rule(character='sys')\n",
        "# template NLG\n",
        "nlg = TemplateNLG(is_user=False)\n",
        "# assemble\n",
        "sys_agent = PipelineAgent(nlu, dst, policy, nlg)"
      ],
      "execution_count": 2,
      "outputs": [
        {
          "output_type": "stream",
          "text": [
            "[<tatk.nlu.svm.Features.nbest object at 0x7f09ebe35e10>]\n",
            "loading saved Classifier\n",
            "loaded.\n"
          ],
          "name": "stdout"
        }
      ]
    },
    {
      "cell_type": "markdown",
      "metadata": {
        "id": "cVJZ63CwzLsg",
        "colab_type": "text"
      },
      "source": [
        "That's all! Let's chat with the agent using its `response` function:"
      ]
    },
    {
      "cell_type": "code",
      "metadata": {
        "id": "Et-Rc6jOzLsg",
        "colab_type": "code",
        "colab": {},
        "outputId": "5e6b4d86-3caa-4b2d-d791-6a006a54aedb"
      },
      "source": [
        "sys_agent.response(\"I want to find a moderate hotel\")"
      ],
      "execution_count": 0,
      "outputs": [
        {
          "output_type": "execute_result",
          "data": {
            "text/plain": [
              "'There are 18 of those . How about acorn guest house ? fits your request perfectly .'"
            ]
          },
          "metadata": {
            "tags": []
          },
          "execution_count": 3
        }
      ]
    },
    {
      "cell_type": "code",
      "metadata": {
        "id": "xpKzSlWvzLsj",
        "colab_type": "code",
        "colab": {},
        "outputId": "0ac87c53-2667-4ab0-c430-42213e791819"
      },
      "source": [
        "sys_agent.response(\"Which type of hotel is it ?\")"
      ],
      "execution_count": 0,
      "outputs": [
        {
          "output_type": "execute_result",
          "data": {
            "text/plain": [
              "'It is a guesthouse .'"
            ]
          },
          "metadata": {
            "tags": []
          },
          "execution_count": 4
        }
      ]
    },
    {
      "cell_type": "code",
      "metadata": {
        "id": "byx2hhf_zLsl",
        "colab_type": "code",
        "colab": {},
        "outputId": "21e45dca-e5d7-4a39-a59d-82cd37855b45"
      },
      "source": [
        "sys_agent.response(\"OK , where is its address ?\")"
      ],
      "execution_count": 0,
      "outputs": [
        {
          "output_type": "execute_result",
          "data": {
            "text/plain": [
              "'They are located at pool way, whitehill road, off newmarket road .'"
            ]
          },
          "metadata": {
            "tags": []
          },
          "execution_count": 5
        }
      ]
    },
    {
      "cell_type": "code",
      "metadata": {
        "id": "C7scb4RHzLsm",
        "colab_type": "code",
        "colab": {},
        "outputId": "e76d199d-0aeb-4a19-857b-280c78c7e0d7"
      },
      "source": [
        "sys_agent.response(\"Thank you !\")"
      ],
      "execution_count": 0,
      "outputs": [
        {
          "output_type": "execute_result",
          "data": {
            "text/plain": [
              "'Welcome , it was a pleasure serving you .'"
            ]
          },
          "metadata": {
            "tags": []
          },
          "execution_count": 6
        }
      ]
    },
    {
      "cell_type": "code",
      "metadata": {
        "id": "WmWF55UrzLso",
        "colab_type": "code",
        "colab": {},
        "outputId": "1949fda3-c41d-487c-ed35-1c3719c7fce0"
      },
      "source": [
        "sys_agent.response(\"Try to find me a Chinese restaurant in south area .\")"
      ],
      "execution_count": 0,
      "outputs": [
        {
          "output_type": "execute_result",
          "data": {
            "text/plain": [
              "'I have 3 different restaurants i can give you some information for . they are all pretty good . Peking restaurant matches your description . They are located at 10 homerton street city centre.'"
            ]
          },
          "metadata": {
            "tags": []
          },
          "execution_count": 7
        }
      ]
    },
    {
      "cell_type": "code",
      "metadata": {
        "id": "R-cseCinzLsq",
        "colab_type": "code",
        "colab": {},
        "outputId": "983fbe82-9f0e-4f7a-e1e6-d50d2aefc21c"
      },
      "source": [
        "sys_agent.response(\"Which kind of food it provides ?\")"
      ],
      "execution_count": 0,
      "outputs": [
        {
          "output_type": "execute_result",
          "data": {
            "text/plain": [
              "'They serve chinese .'"
            ]
          },
          "metadata": {
            "tags": []
          },
          "execution_count": 8
        }
      ]
    },
    {
      "cell_type": "code",
      "metadata": {
        "id": "kMLTBFL6zLst",
        "colab_type": "code",
        "colab": {},
        "outputId": "df79a0dd-7fd9-4ae5-ab36-7dc9918c920e"
      },
      "source": [
        "sys_agent.response(\"Book a table for 5 , this Sunday .\")"
      ],
      "execution_count": 0,
      "outputs": [
        {
          "output_type": "execute_result",
          "data": {
            "text/plain": [
              "'Reference number is : 00000003 .'"
            ]
          },
          "metadata": {
            "tags": []
          },
          "execution_count": 9
        }
      ]
    },
    {
      "cell_type": "markdown",
      "metadata": {
        "id": "hnxPfsenzLsw",
        "colab_type": "text"
      },
      "source": [
        "## Build a Simulator to Chat with the Agent\n",
        "\n",
        "In many one-to-one task-oriented dialog system, a simulator is essential to train an RL agent. In our framework, we doesn't distinguish user or system, all speakers are **agents**. The simulator is also an agent, with specific policy inside for accomplishing the user goal.\n",
        "\n",
        "We use Agenda policy for the simulator, this policy requires dialog act input, which means we should set DST argument of `PipelineAgent` to `None`. Then the `PipelineAgent` will pass dialog act to policy directly. Refer to `PipelineAgent` doc for more details."
      ]
    },
    {
      "cell_type": "code",
      "metadata": {
        "id": "CM2p1xwWzLsx",
        "colab_type": "code",
        "colab": {
          "base_uri": "https://localhost:8080/",
          "height": 85
        },
        "outputId": "1991fe36-4f7f-406c-c5e4-3fbaaf5a14ef"
      },
      "source": [
        "# bert nlu trained on sys sentence of multiwoz\n",
        "# go to README.md under `tatk/tatk/nlu/bert/multiwoz` for more information \n",
        "nlu = BERTNLU('sys',model_file=\"https://tatk-data.s3-ap-northeast-1.amazonaws.com/bert_multiwoz_sys.zip\")\n",
        "# not use dst\n",
        "dst = None\n",
        "# rule policy\n",
        "policy = Rule(character='usr')\n",
        "# template NLG\n",
        "nlg = TemplateNLG(is_user=True)\n",
        "# assemble\n",
        "simulator = PipelineAgent(nlu, dst, policy, nlg)"
      ],
      "execution_count": 3,
      "outputs": [
        {
          "output_type": "stream",
          "text": [
            "Load from /content/tatk/tatk/nlu/bert/multiwoz/output/sys/bestcheckpoint.tar\n",
            "train step 19000\n",
            "BERTNLU loaded\n",
            "Loading goal model is done\n"
          ],
          "name": "stdout"
        }
      ]
    },
    {
      "cell_type": "markdown",
      "metadata": {
        "id": "PgDsgQRCzLsz",
        "colab_type": "text"
      },
      "source": [
        "Now we have a simulator and an agent. we will use an existed simple one-to-one conversation controller `BiSession`, you can also define your own Session class for your special need."
      ]
    },
    {
      "cell_type": "code",
      "metadata": {
        "id": "xIHaiwndzLsz",
        "colab_type": "code",
        "colab": {}
      },
      "source": [
        "sess = BiSession(sys_agent, simulator, None)"
      ],
      "execution_count": 0,
      "outputs": []
    },
    {
      "cell_type": "markdown",
      "metadata": {
        "id": "N3tkmnhXzLs1",
        "colab_type": "text"
      },
      "source": [
        "Let's make this two agents chat! The key is `next_turn` method of Session class."
      ]
    },
    {
      "cell_type": "code",
      "metadata": {
        "id": "6LMwBKpYzLs4",
        "colab_type": "code",
        "colab": {
          "base_uri": "https://localhost:8080/",
          "height": 578
        },
        "outputId": "f8f4f128-9578-4b78-d415-0322cf239a73"
      },
      "source": [
        "sys_response = 'null'\n",
        "sess.init_session()\n",
        "for i in range(30):\n",
        "    sys_response, user_response, session_over, reward = sess.next_turn(sys_response)\n",
        "    print('user:', user_response)\n",
        "    print('sys:', sys_response)\n",
        "    print('reward:', reward)\n",
        "    if session_over is True:\n",
        "        break"
      ],
      "execution_count": 6,
      "outputs": [
        {
          "output_type": "stream",
          "text": [
            "user: I need to travel on thursday .\n",
            "sys: What time do you want to depart ? Is there a time you need to arrive by ? Where are you heading to ? Where will you be traveling from ?\n",
            "reward: -1.0\n",
            "user: I need a train going to cambridge . The train should leave on thursday . I need it to depart from cambridge .\n",
            "sys: When would you like the train to depart ?\n",
            "reward: -1.0\n",
            "user: I 'd like to arrive by 17:15 .\n",
            "sys: The car arriving will be a honda . The contact number is 24pw58dkk65 .\n",
            "reward: -1.0\n",
            "user: Can you tell me the price ? Could you comfirm the departure time of that train ?\n",
            "sys: I would say you should leave by 05:00. It would cost 23.60 pounds .\n",
            "reward: -1.0\n",
            "user: What is the departure time ?\n",
            "sys: I would say you should leave by 05:00.\n",
            "reward: -1.0\n",
            "user: I want to get there by 17:15 at the latest .\n",
            "sys: Reference number is : 00000000 .\n",
            "reward: -1.0\n",
            "user: What is the departure time ?\n",
            "sys: I have a train leaving at 05:00 would that be okay ?\n",
            "reward: -1.0\n",
            "user: Also , thanks for the apology . i do n't need anything else at this time .\n",
            "sys: You are welcome.\n",
            "reward: -1.0\n",
            "user: I 'd like a cheap priced one .\n",
            "sys: I have 22 options for you !. How about la margherita ?\n",
            "reward: -1.0\n",
            "user: Can you give me the address ?\n",
            "sys: The address is regent street city centre .\n",
            "reward: -1.0\n",
            "user: Thank you very much , goodbye .\n",
            "sys: Okay ! glad i could help . enjoy your stay .\n",
            "reward: 80.0\n"
          ],
          "name": "stdout"
        }
      ]
    },
    {
      "cell_type": "markdown",
      "metadata": {
        "collapsed": true,
        "id": "G0_s-zNCzLs5",
        "colab_type": "text"
      },
      "source": [
        "## Try Different Module Combinations\n",
        "\n",
        "The combination modes of pipeline agent modules are flexible. We support joint model such as [MDBT](https://www.aclweb.org/anthology/P18-2069) (NLU+DST) and [MDRG](https://pdfs.semanticscholar.org/47d0/1eb59cd37d16201fcae964bd1d2b49cfb55e.pdf) (Policy+NLG), once the input and output are matched with previous and next module. We also support End2End model such as [Sequicity](https://www.comp.nus.edu.sg/~kanmy/papers/acl18-sequicity.pdf)."
      ]
    },
    {
      "cell_type": "markdown",
      "metadata": {
        "id": "ge5RMjEEzLs6",
        "colab_type": "text"
      },
      "source": [
        "### MDBT\n",
        "- NLU: None\n",
        "- DST: MDBT\n",
        "- Policy: Rule\n",
        "- NLG: TemplateNLG"
      ]
    },
    {
      "cell_type": "code",
      "metadata": {
        "id": "jX389QdrzLs6",
        "colab_type": "code",
        "colab": {}
      },
      "source": [
        "from tatk.dst.mdbt.multiwoz.mdbt import MultiWozMDBT\n",
        "nlu = None\n",
        "# simple rule DST\n",
        "dst = MultiWozMDBT()\n",
        "# rule policy\n",
        "policy = Rule()\n",
        "# template NLG\n",
        "nlg = TemplateNLG(is_user=False)\n",
        "# assemble\n",
        "sys_agent = PipelineAgent(nlu, dst, policy, nlg)"
      ],
      "execution_count": 0,
      "outputs": []
    },
    {
      "cell_type": "markdown",
      "metadata": {
        "id": "ywmBimGmzLs8",
        "colab_type": "text"
      },
      "source": [
        "### MDRG\n",
        "\n",
        "- NLU: SVM\n",
        "- DST: Rule\n",
        "- Policy: MDRG\n",
        "- NLG: None"
      ]
    },
    {
      "cell_type": "code",
      "metadata": {
        "id": "8f1JhaELzLs8",
        "colab_type": "code",
        "colab": {}
      },
      "source": [
        "from tatk.policy.mdrg.multiwoz.policy import MDRGWordPolicy\n",
        "# svm nlu trained on usr sentence of multiwoz\n",
        "# go to README.md under `tatk/tatk/nlu/svm/multiwoz` for more information \n",
        "nlu = SVMNLU('usr',model_file=\"https://tatk-data.s3-ap-northeast-1.amazonaws.com/svm_multiwoz_usr.zip\")\n",
        "# simple rule DST\n",
        "dst = RuleDST()\n",
        "# rule policy\n",
        "policy = MDRGWordPolicy()\n",
        "# template NLG\n",
        "nlg = None\n",
        "# assemble\n",
        "sys_agent = PipelineAgent(nlu, dst, policy, nlg)"
      ],
      "execution_count": 0,
      "outputs": []
    },
    {
      "cell_type": "markdown",
      "metadata": {
        "collapsed": true,
        "id": "Ndki-MWnzLs9",
        "colab_type": "text"
      },
      "source": [
        "### Sequicity\n",
        "\n",
        "Sequicity inherits from interface `Agent` directly."
      ]
    },
    {
      "cell_type": "code",
      "metadata": {
        "id": "yEs1yzMYzLs-",
        "colab_type": "code",
        "colab": {}
      },
      "source": [
        "from tatk.e2e.sequicity.multiwoz import Sequicity\n",
        "sequicity = Sequicity()\n",
        "sys_agent = sequicity"
      ],
      "execution_count": 0,
      "outputs": []
    }
  ]
}