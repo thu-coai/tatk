{
  "nbformat": 4,
  "nbformat_minor": 0,
  "metadata": {
    "kernelspec": {
      "name": "python3",
      "display_name": "Python 3"
    },
    "colab": {
      "name": "Getting_Started.ipynb",
      "version": "0.3.2",
      "provenance": [],
      "collapsed_sections": []
    }
  },
  "cells": [
    {
      "cell_type": "markdown",
      "metadata": {
        "id": "pVDdXl-AzLsW",
        "colab_type": "text"
      },
      "source": [
        "# Getting Started\n",
        "\n",
        "In this tutorial, you will know how to\n",
        "- use the models in **tatk** to build a dialog agent.\n",
        "- build a simulator to chat with the agent and evaluate the performance.\n",
        "- try different module combinations.\n",
        "\n",
        "Let's get started!"
      ]
    },
    {
      "cell_type": "markdown",
      "metadata": {
        "id": "sUhkMPYWE3XO",
        "colab_type": "text"
      },
      "source": [
        "## Environment Setup\n",
        "Run the command below to install tatk for once. Then restart the notebook and ignore this commend."
      ]
    },
    {
      "cell_type": "code",
      "metadata": {
        "id": "m5YgCJuLzkOv",
        "colab_type": "code",
        "outputId": "5f42eda9-58b3-4a58-e4c2-debb04bb6b3c",
        "colab": {
          "base_uri": "https://localhost:8080/",
          "height": 1000
        }
      },
      "source": [
        "# first install tatk and restart the notebook\n",
        "! rm -rf tatk && git clone https://github.com/thu-coai/tatk.git && cd tatk && pip install -e ."
      ],
      "execution_count": 18,
      "outputs": [
        {
          "output_type": "stream",
          "text": [
            "Cloning into 'tatk'...\n",
            "remote: Enumerating objects: 57, done.\u001b[K\n",
            "remote: Counting objects: 100% (57/57), done.\u001b[K\n",
            "remote: Compressing objects: 100% (50/50), done.\u001b[K\n",
            "remote: Total 2589 (delta 23), reused 15 (delta 6), pack-reused 2532\u001b[K\n",
            "Receiving objects: 100% (2589/2589), 19.16 MiB | 40.97 MiB/s, done.\n",
            "Resolving deltas: 100% (1494/1494), done.\n",
            "Obtaining file:///content/tatk\n",
            "Requirement already satisfied: nltk>=3.4 in /usr/local/lib/python3.6/dist-packages (from tatk==0.0.1.dev20190822) (3.4.5)\n",
            "Requirement already satisfied: tqdm>=4.30 in /usr/local/lib/python3.6/dist-packages (from tatk==0.0.1.dev20190822) (4.34.0)\n",
            "Requirement already satisfied: checksumdir>=1.1 in /usr/local/lib/python3.6/dist-packages (from tatk==0.0.1.dev20190822) (1.1.7)\n",
            "Requirement already satisfied: visdom in /usr/local/lib/python3.6/dist-packages (from tatk==0.0.1.dev20190822) (0.1.8.8)\n",
            "Requirement already satisfied: Pillow in /usr/local/lib/python3.6/dist-packages (from tatk==0.0.1.dev20190822) (4.3.0)\n",
            "Requirement already satisfied: future in /usr/local/lib/python3.6/dist-packages (from tatk==0.0.1.dev20190822) (0.16.0)\n",
            "Requirement already satisfied: torch in /usr/local/lib/python3.6/dist-packages (from tatk==0.0.1.dev20190822) (1.1.0)\n",
            "Requirement already satisfied: numpy>=1.15.0 in /usr/local/lib/python3.6/dist-packages (from tatk==0.0.1.dev20190822) (1.16.4)\n",
            "Requirement already satisfied: scipy in /usr/local/lib/python3.6/dist-packages (from tatk==0.0.1.dev20190822) (1.3.1)\n",
            "Requirement already satisfied: scikit-learn==0.20.3 in /usr/local/lib/python3.6/dist-packages (from tatk==0.0.1.dev20190822) (0.20.3)\n",
            "Requirement already satisfied: pytorch_pretrained_bert in /usr/local/lib/python3.6/dist-packages (from tatk==0.0.1.dev20190822) (0.6.2)\n",
            "Requirement already satisfied: tensorflow==1.14 in /usr/local/lib/python3.6/dist-packages (from tatk==0.0.1.dev20190822) (1.14.0)\n",
            "Requirement already satisfied: tensorboard>=1.14.0 in /usr/local/lib/python3.6/dist-packages (from tatk==0.0.1.dev20190822) (1.14.0)\n",
            "Requirement already satisfied: tensorboardX==1.7 in /usr/local/lib/python3.6/dist-packages (from tatk==0.0.1.dev20190822) (1.7)\n",
            "Requirement already satisfied: requests in /usr/local/lib/python3.6/dist-packages (from tatk==0.0.1.dev20190822) (2.21.0)\n",
            "Requirement already satisfied: simplejson in /usr/local/lib/python3.6/dist-packages (from tatk==0.0.1.dev20190822) (3.16.0)\n",
            "Requirement already satisfied: six in /usr/local/lib/python3.6/dist-packages (from nltk>=3.4->tatk==0.0.1.dev20190822) (1.12.0)\n",
            "Requirement already satisfied: tornado in /usr/local/lib/python3.6/dist-packages (from visdom->tatk==0.0.1.dev20190822) (4.5.3)\n",
            "Requirement already satisfied: torchfile in /usr/local/lib/python3.6/dist-packages (from visdom->tatk==0.0.1.dev20190822) (0.1.0)\n",
            "Requirement already satisfied: websocket-client in /usr/local/lib/python3.6/dist-packages (from visdom->tatk==0.0.1.dev20190822) (0.56.0)\n",
            "Requirement already satisfied: pyzmq in /usr/local/lib/python3.6/dist-packages (from visdom->tatk==0.0.1.dev20190822) (17.0.0)\n",
            "Requirement already satisfied: olefile in /usr/local/lib/python3.6/dist-packages (from Pillow->tatk==0.0.1.dev20190822) (0.46)\n",
            "Requirement already satisfied: boto3 in /usr/local/lib/python3.6/dist-packages (from pytorch_pretrained_bert->tatk==0.0.1.dev20190822) (1.9.205)\n",
            "Requirement already satisfied: regex in /usr/local/lib/python3.6/dist-packages (from pytorch_pretrained_bert->tatk==0.0.1.dev20190822) (2019.8.19)\n",
            "Requirement already satisfied: protobuf>=3.6.1 in /usr/local/lib/python3.6/dist-packages (from tensorflow==1.14->tatk==0.0.1.dev20190822) (3.7.1)\n",
            "Requirement already satisfied: google-pasta>=0.1.6 in /usr/local/lib/python3.6/dist-packages (from tensorflow==1.14->tatk==0.0.1.dev20190822) (0.1.7)\n",
            "Requirement already satisfied: absl-py>=0.7.0 in /usr/local/lib/python3.6/dist-packages (from tensorflow==1.14->tatk==0.0.1.dev20190822) (0.7.1)\n",
            "Requirement already satisfied: termcolor>=1.1.0 in /usr/local/lib/python3.6/dist-packages (from tensorflow==1.14->tatk==0.0.1.dev20190822) (1.1.0)\n",
            "Requirement already satisfied: wrapt>=1.11.1 in /usr/local/lib/python3.6/dist-packages (from tensorflow==1.14->tatk==0.0.1.dev20190822) (1.11.2)\n",
            "Requirement already satisfied: grpcio>=1.8.6 in /usr/local/lib/python3.6/dist-packages (from tensorflow==1.14->tatk==0.0.1.dev20190822) (1.15.0)\n",
            "Requirement already satisfied: wheel>=0.26 in /usr/local/lib/python3.6/dist-packages (from tensorflow==1.14->tatk==0.0.1.dev20190822) (0.33.4)\n",
            "Requirement already satisfied: keras-applications>=1.0.6 in /usr/local/lib/python3.6/dist-packages (from tensorflow==1.14->tatk==0.0.1.dev20190822) (1.0.8)\n",
            "Requirement already satisfied: keras-preprocessing>=1.0.5 in /usr/local/lib/python3.6/dist-packages (from tensorflow==1.14->tatk==0.0.1.dev20190822) (1.1.0)\n",
            "Requirement already satisfied: astor>=0.6.0 in /usr/local/lib/python3.6/dist-packages (from tensorflow==1.14->tatk==0.0.1.dev20190822) (0.8.0)\n",
            "Requirement already satisfied: tensorflow-estimator<1.15.0rc0,>=1.14.0rc0 in /usr/local/lib/python3.6/dist-packages (from tensorflow==1.14->tatk==0.0.1.dev20190822) (1.14.0)\n",
            "Requirement already satisfied: gast>=0.2.0 in /usr/local/lib/python3.6/dist-packages (from tensorflow==1.14->tatk==0.0.1.dev20190822) (0.2.2)\n",
            "Requirement already satisfied: werkzeug>=0.11.15 in /usr/local/lib/python3.6/dist-packages (from tensorboard>=1.14.0->tatk==0.0.1.dev20190822) (0.15.5)\n",
            "Requirement already satisfied: setuptools>=41.0.0 in /usr/local/lib/python3.6/dist-packages (from tensorboard>=1.14.0->tatk==0.0.1.dev20190822) (41.1.0)\n",
            "Requirement already satisfied: markdown>=2.6.8 in /usr/local/lib/python3.6/dist-packages (from tensorboard>=1.14.0->tatk==0.0.1.dev20190822) (3.1.1)\n",
            "Requirement already satisfied: idna<2.9,>=2.5 in /usr/local/lib/python3.6/dist-packages (from requests->tatk==0.0.1.dev20190822) (2.8)\n",
            "Requirement already satisfied: chardet<3.1.0,>=3.0.2 in /usr/local/lib/python3.6/dist-packages (from requests->tatk==0.0.1.dev20190822) (3.0.4)\n",
            "Requirement already satisfied: certifi>=2017.4.17 in /usr/local/lib/python3.6/dist-packages (from requests->tatk==0.0.1.dev20190822) (2019.6.16)\n",
            "Requirement already satisfied: urllib3<1.25,>=1.21.1 in /usr/local/lib/python3.6/dist-packages (from requests->tatk==0.0.1.dev20190822) (1.24.3)\n",
            "Requirement already satisfied: botocore<1.13.0,>=1.12.205 in /usr/local/lib/python3.6/dist-packages (from boto3->pytorch_pretrained_bert->tatk==0.0.1.dev20190822) (1.12.205)\n",
            "Requirement already satisfied: s3transfer<0.3.0,>=0.2.0 in /usr/local/lib/python3.6/dist-packages (from boto3->pytorch_pretrained_bert->tatk==0.0.1.dev20190822) (0.2.1)\n",
            "Requirement already satisfied: jmespath<1.0.0,>=0.7.1 in /usr/local/lib/python3.6/dist-packages (from boto3->pytorch_pretrained_bert->tatk==0.0.1.dev20190822) (0.9.4)\n",
            "Requirement already satisfied: h5py in /usr/local/lib/python3.6/dist-packages (from keras-applications>=1.0.6->tensorflow==1.14->tatk==0.0.1.dev20190822) (2.8.0)\n",
            "Requirement already satisfied: docutils<0.15,>=0.10 in /usr/local/lib/python3.6/dist-packages (from botocore<1.13.0,>=1.12.205->boto3->pytorch_pretrained_bert->tatk==0.0.1.dev20190822) (0.14)\n",
            "Requirement already satisfied: python-dateutil<3.0.0,>=2.1; python_version >= \"2.7\" in /usr/local/lib/python3.6/dist-packages (from botocore<1.13.0,>=1.12.205->boto3->pytorch_pretrained_bert->tatk==0.0.1.dev20190822) (2.5.3)\n",
            "Installing collected packages: tatk\n",
            "  Found existing installation: tatk 0.0.1.dev20190822\n",
            "    Can't uninstall 'tatk'. No files were found to uninstall.\n",
            "  Running setup.py develop for tatk\n",
            "Successfully installed tatk\n"
          ],
          "name": "stdout"
        }
      ]
    },
    {
      "cell_type": "markdown",
      "metadata": {
        "id": "Ec2qTTc4zLsY",
        "colab_type": "text"
      },
      "source": [
        "## Build an agent\n",
        "\n",
        "We use the models adapted on [Multiwoz dataset](https://www.aclweb.org/anthology/D18-1547) to build our agent. This pipeline agent consists of NLU, DST, Policy and NLG modules.\n",
        "\n",
        "First, import some models:"
      ]
    },
    {
      "cell_type": "code",
      "metadata": {
        "id": "z1EUye0VzLsZ",
        "colab_type": "code",
        "colab": {}
      },
      "source": [
        "import sys\n",
        "import os\n",
        "# Agent\n",
        "from tatk.dialog_agent import PipelineAgent, BiSession\n",
        "# common import: tatk.$module.$model.$dataset\n",
        "from tatk.nlu.svm.multiwoz import SVMNLU\n",
        "from tatk.nlu.bert.multiwoz import BERTNLU\n",
        "from tatk.dst.rule.multiwoz import RuleDST\n",
        "from tatk.policy.rule.multiwoz import Rule\n",
        "from tatk.nlg.template.multiwoz import TemplateNLG\n",
        "from tatk.evaluator.multiwoz_eval import MultiWozEvaluator\n",
        "import random\n",
        "import numpy as np\n",
        "from pprint import pprint"
      ],
      "execution_count": 0,
      "outputs": []
    },
    {
      "cell_type": "markdown",
      "metadata": {
        "id": "4blugP4xzLsc",
        "colab_type": "text"
      },
      "source": [
        "Then, create the models and build an agent:"
      ]
    },
    {
      "cell_type": "code",
      "metadata": {
        "id": "0cwV57AVzLsc",
        "colab_type": "code",
        "outputId": "6cff09a9-7884-4fb1-9a8b-f9f67126987c",
        "colab": {
          "base_uri": "https://localhost:8080/",
          "height": 85
        }
      },
      "source": [
        "# svm nlu trained on usr sentence of multiwoz\n",
        "# go to README.md under `tatk/tatk/nlu/svm/multiwoz` for more information \n",
        "sys_nlu = SVMNLU(mode='usr')\n",
        "# simple rule DST\n",
        "sys_dst = RuleDST()\n",
        "# rule policy\n",
        "sys_policy = Rule(character='sys')\n",
        "# template NLG\n",
        "sys_nlg = TemplateNLG(is_user=False)\n",
        "# assemble\n",
        "sys_agent = PipelineAgent(sys_nlu, sys_dst, sys_policy, sys_nlg)\n"
      ],
      "execution_count": 2,
      "outputs": [
        {
          "output_type": "stream",
          "text": [
            "[<tatk.nlu.svm.Features.nbest object at 0x7f076a468e80>]\n",
            "Load from model_file param\n",
            "loading saved Classifier\n",
            "loaded.\n"
          ],
          "name": "stdout"
        }
      ]
    },
    {
      "cell_type": "markdown",
      "metadata": {
        "id": "cVJZ63CwzLsg",
        "colab_type": "text"
      },
      "source": [
        "That's all! Let's chat with the agent using its `response` function:"
      ]
    },
    {
      "cell_type": "code",
      "metadata": {
        "id": "Et-Rc6jOzLsg",
        "colab_type": "code",
        "outputId": "a6ea94c5-0664-437f-90a3-9644b15841f0",
        "colab": {
          "base_uri": "https://localhost:8080/",
          "height": 34
        }
      },
      "source": [
        "sys_agent.response(\"I want to find a moderate hotel\")"
      ],
      "execution_count": 3,
      "outputs": [
        {
          "output_type": "execute_result",
          "data": {
            "text/plain": [
              "'I have 18 options for you. Will acorn guest house be alright ? The parking is free . How about acorn guest house ?'"
            ]
          },
          "metadata": {
            "tags": []
          },
          "execution_count": 3
        }
      ]
    },
    {
      "cell_type": "code",
      "metadata": {
        "id": "xpKzSlWvzLsj",
        "colab_type": "code",
        "outputId": "47a241a0-b38d-48cf-e0bf-30dddfe4c95f",
        "colab": {
          "base_uri": "https://localhost:8080/",
          "height": 34
        }
      },
      "source": [
        "sys_agent.response(\"Which type of hotel is it ?\")"
      ],
      "execution_count": 4,
      "outputs": [
        {
          "output_type": "execute_result",
          "data": {
            "text/plain": [
              "'It is a guesthouse .'"
            ]
          },
          "metadata": {
            "tags": []
          },
          "execution_count": 4
        }
      ]
    },
    {
      "cell_type": "code",
      "metadata": {
        "id": "byx2hhf_zLsl",
        "colab_type": "code",
        "outputId": "338d2aa2-39e2-458f-b1ff-1648b1d31da5",
        "colab": {
          "base_uri": "https://localhost:8080/",
          "height": 34
        }
      },
      "source": [
        "sys_agent.response(\"OK , where is its address ?\")"
      ],
      "execution_count": 5,
      "outputs": [
        {
          "output_type": "execute_result",
          "data": {
            "text/plain": [
              "'Their address in our system is listed as pool way, whitehill road, off newmarket road .'"
            ]
          },
          "metadata": {
            "tags": []
          },
          "execution_count": 5
        }
      ]
    },
    {
      "cell_type": "code",
      "metadata": {
        "id": "C7scb4RHzLsm",
        "colab_type": "code",
        "outputId": "8691bb1a-db5a-41a1-8bb9-774a8cab3faf",
        "colab": {
          "base_uri": "https://localhost:8080/",
          "height": 34
        }
      },
      "source": [
        "sys_agent.response(\"Thank you !\")"
      ],
      "execution_count": 6,
      "outputs": [
        {
          "output_type": "execute_result",
          "data": {
            "text/plain": [
              "'Welcome , it was a pleasure serving you .'"
            ]
          },
          "metadata": {
            "tags": []
          },
          "execution_count": 6
        }
      ]
    },
    {
      "cell_type": "code",
      "metadata": {
        "id": "WmWF55UrzLso",
        "colab_type": "code",
        "outputId": "c730fb33-6b9c-4b38-88b8-b936ca533487",
        "colab": {
          "base_uri": "https://localhost:8080/",
          "height": 34
        }
      },
      "source": [
        "sys_agent.response(\"Try to find me a Chinese restaurant in south area .\")"
      ],
      "execution_count": 7,
      "outputs": [
        {
          "output_type": "execute_result",
          "data": {
            "text/plain": [
              "'There are 3 restaurants in that area that fit that criteria . Excellent . the lucky star is just your thing . Okay , may i suggest chinese food ?'"
            ]
          },
          "metadata": {
            "tags": []
          },
          "execution_count": 7
        }
      ]
    },
    {
      "cell_type": "code",
      "metadata": {
        "id": "R-cseCinzLsq",
        "colab_type": "code",
        "outputId": "f530e567-289f-407a-afeb-6b8bb2523ba1",
        "colab": {
          "base_uri": "https://localhost:8080/",
          "height": 34
        }
      },
      "source": [
        "sys_agent.response(\"Which kind of food it provides ?\")"
      ],
      "execution_count": 8,
      "outputs": [
        {
          "output_type": "execute_result",
          "data": {
            "text/plain": [
              "'That is a chinese restaurant .'"
            ]
          },
          "metadata": {
            "tags": []
          },
          "execution_count": 8
        }
      ]
    },
    {
      "cell_type": "code",
      "metadata": {
        "id": "kMLTBFL6zLst",
        "colab_type": "code",
        "outputId": "a8de4fde-bd1b-4a8d-bdeb-4e3b55efd983",
        "colab": {
          "base_uri": "https://localhost:8080/",
          "height": 34
        }
      },
      "source": [
        "sys_agent.response(\"Book a table for 5 , this Sunday .\")"
      ],
      "execution_count": 9,
      "outputs": [
        {
          "output_type": "execute_result",
          "data": {
            "text/plain": [
              "'Here is the booking information : booking was successful . reference number is : 00000003.'"
            ]
          },
          "metadata": {
            "tags": []
          },
          "execution_count": 9
        }
      ]
    },
    {
      "cell_type": "markdown",
      "metadata": {
        "id": "hnxPfsenzLsw",
        "colab_type": "text"
      },
      "source": [
        "## Build a Simulator to Chat with the Agent and Evaluate\n",
        "\n",
        "In many one-to-one task-oriented dialog system, a simulator is essential to train an RL agent. In our framework, we doesn't distinguish user or system, all speakers are **agents**. The simulator is also an agent, with specific policy inside for accomplishing the user goal.\n",
        "\n",
        "We use Agenda policy for the simulator, this policy requires dialog act input, which means we should set DST argument of `PipelineAgent` to `None`. Then the `PipelineAgent` will pass dialog act to policy directly. Refer to `PipelineAgent` doc for more details."
      ]
    },
    {
      "cell_type": "code",
      "metadata": {
        "id": "CM2p1xwWzLsx",
        "colab_type": "code",
        "outputId": "dd00aec0-ec4f-4d1d-a805-49dca1a67abe",
        "colab": {
          "base_uri": "https://localhost:8080/",
          "height": 255
        }
      },
      "source": [
        "# bert nlu trained on sys sentence of multiwoz\n",
        "# go to README.md under `tatk/tatk/nlu/bert/multiwoz` for more information \n",
        "user_nlu = BERTNLU(mode='sys')\n",
        "# not use dst\n",
        "user_dst = None\n",
        "# rule policy\n",
        "user_policy = Rule(character='usr')\n",
        "# template NLG\n",
        "user_nlg = TemplateNLG(is_user=True)\n",
        "# assemble\n",
        "user_agent = PipelineAgent(user_nlu, user_dst, user_policy, user_nlg)"
      ],
      "execution_count": 10,
      "outputs": [
        {
          "output_type": "stream",
          "text": [
            "load train, size 8434\n",
            "load val, size 999\n",
            "load test, size 1000\n",
            "loaded train, size 56750\n",
            "loaded val, size 7365\n",
            "loaded test, size 7372\n",
            "dialog act num: 34\n",
            "sentence label num: 64\n",
            "tag num: 312\n",
            "Load from model_file param\n",
            "Load from /content/tatk/tatk/nlu/bert/multiwoz/output/sys/bestcheckpoint.tar\n",
            "train step 29900\n",
            "BERTNLU loaded\n",
            "Loading goal model is done\n"
          ],
          "name": "stdout"
        }
      ]
    },
    {
      "cell_type": "markdown",
      "metadata": {
        "id": "PgDsgQRCzLsz",
        "colab_type": "text"
      },
      "source": [
        "Now we have a simulator and an agent. we will use an existed simple one-to-one conversation controller `BiSession`, you can also define your own Session class for your special need. \n",
        "\n",
        "We add `MultiWozEvaluator` to evaluate the performance. It uses the parsed dialog act input and policy output dialog act to calculate **inform f1**, **book rate**, and whether the task is **success**."
      ]
    },
    {
      "cell_type": "code",
      "metadata": {
        "id": "xIHaiwndzLsz",
        "colab_type": "code",
        "colab": {}
      },
      "source": [
        "evaluator = MultiWozEvaluator()\n",
        "sess = BiSession(sys_agent=sys_agent, user_agent=user_agent, kb_query=None, evaluator=evaluator)"
      ],
      "execution_count": 0,
      "outputs": []
    },
    {
      "cell_type": "markdown",
      "metadata": {
        "id": "N3tkmnhXzLs1",
        "colab_type": "text"
      },
      "source": [
        "Let's make this two agents chat! The key is `next_turn` method of Session class."
      ]
    },
    {
      "cell_type": "code",
      "metadata": {
        "id": "kMiGhBFaU1Qk",
        "colab_type": "code",
        "colab": {
          "base_uri": "https://localhost:8080/",
          "height": 1000
        },
        "outputId": "2d2d6950-31d9-403c-809c-49acc07bb900"
      },
      "source": [
        "random.seed(20190827)\n",
        "np.random.seed(20190827)\n",
        "sys_response = ''\n",
        "sess.init_session()\n",
        "print('init goal:')\n",
        "pprint(sess.evaluator.goal)\n",
        "print('-'*50)\n",
        "for i in range(40):\n",
        "    sys_response, user_response, session_over, reward = sess.next_turn(sys_response)\n",
        "    print('user:', user_response)\n",
        "    print('sys:', sys_response)\n",
        "    print()\n",
        "    if session_over is True:\n",
        "        print('task success:', sess.evaluator.task_success())\n",
        "        print('book rate:', sess.evaluator.book_rate())\n",
        "        print('inform precision/recall/f1:', sess.evaluator.inform_F1())\n",
        "        print('-'*50)\n",
        "        print('final goal:')\n",
        "        pprint(sess.evaluator.goal)\n",
        "        print('='*100)\n",
        "        break"
      ],
      "execution_count": 12,
      "outputs": [
        {
          "output_type": "stream",
          "text": [
            "init goal:\n",
            "{'attraction': {'info': {'area': 'centre', 'type': 'college'},\n",
            "                'reqt': {'entrance fee': '?', 'phone': '?'}},\n",
            " 'train': {'book': {'people': '7'},\n",
            "           'booked': '?',\n",
            "           'info': {'day': 'wednesday',\n",
            "                    'departure': 'cambridge',\n",
            "                    'destination': 'london kings cross',\n",
            "                    'leaveAt': '12:15'},\n",
            "           'reqt': {'duration': '?'}}}\n",
            "--------------------------------------------------\n",
            "user: Do you have any college attractions. I am also looking for places to go in town . maybe something in the centre .\n",
            "sys: There are 44 , anything in particular you are looking for ? I 'd recommend the fez club . would you like some information on it ?\n",
            "\n",
            "user: Can you give me their phone number please ? Yes , what are the entrance fees ?\n",
            "sys: Its entrance fee is ? . The phone number is 01223300085 .\n",
            "\n",
            "user: I just need to know how much the entrance fee is .\n",
            "sys: The park is ? .\n",
            "\n",
            "user: Okay , are there any colleges in the centre ?\n",
            "sys: There are 13 . would you like me to recommend one for you ? Would you like hughes hall ?\n",
            "\n",
            "user: I just need to know how much the entrance fee is .\n",
            "sys: Their entrance fee is free by our system currently .\n",
            "\n",
            "user: I am departing from cambridge . I will leav on wednesday . I would like to leave anytime after 12:15 . I need to find a train to london kings cross please .\n",
            "sys: When would you like to leave by ? Where did you want to depart from ?\n",
            "\n",
            "user: The earlier the better , so whichever train leaves closest to 12:15. I ' m looking to travel on wednesday. Is it going to cambridge ?\n",
            "sys: Where will you be leaving from ?\n",
            "\n",
            "user: Thanks ! i also need a train departing from cambridge .\n",
            "sys: Where are you departing from ?\n",
            "\n",
            "user: I need some information on a train going to london kings cross . I ' m departing from cambridge .\n",
            "sys: Where will you be leaving from ?\n",
            "\n",
            "user: I 'll be departing from cambridge .\n",
            "sys: Where will you be traveling from ?\n",
            "\n",
            "user: I ' m departing from cambridge .\n",
            "sys: Where are you departing from ?\n",
            "\n",
            "user: I am going to london kings cross. I ' m departing from cambridge .\n",
            "sys: Where did you want to depart from ?\n",
            "\n",
            "user: I ' m also looking for a train from cambridge .\n",
            "sys: Would you like me to book you on the 12:15 train ? I can book your tickets for wednesday . Woudl you like me to book a train to cambridge for you ? Woudl you like me to book a train from cambridge for you ?\n",
            "\n",
            "user: Yes , what is the duration of the train ride ?\n",
            "sys: The trip will last 51 minutes.\n",
            "\n",
            "user: Yes , can you book that for 7 ?\n",
            "sys: All set . your reference number is 00000024 .\n",
            "\n",
            "user: You were great . goodbye .\n",
            "sys: We have 110 such places . The pipasha restaurant is a nice place would you like to try that one ?\n",
            "\n",
            "task success: 1\n",
            "book rate: 1.0\n",
            "inform precision/recall/f1: (1.0, 1.0, 1.0)\n",
            "--------------------------------------------------\n",
            "final goal:\n",
            "{'attraction': {'info': {'area': 'centre', 'type': 'college'},\n",
            "                'reqt': {'entrance fee': 'free', 'phone': '01223300085'}},\n",
            " 'train': {'book': {'people': '7'},\n",
            "           'booked': 'yes',\n",
            "           'info': {'day': 'wednesday',\n",
            "                    'departure': 'cambridge',\n",
            "                    'destination': 'london kings cross',\n",
            "                    'leaveAt': '12:15'},\n",
            "           'reqt': {'duration': '51 minutes'}}}\n",
            "====================================================================================================\n"
          ],
          "name": "stdout"
        }
      ]
    },
    {
      "cell_type": "markdown",
      "metadata": {
        "id": "bP75e8TRMznh",
        "colab_type": "text"
      },
      "source": [
        "`BiSession` allows two agents chat in dialog act level or natural language level, once the input and output are consistent. Example configurations:\n",
        "\n",
        "| usr input ==>       | usr NLU | usr DST | usr Policy | usr NLG  | ==> sys input ==>        | sys NLU | sys DST | sys Policy | sys NLG  |\n",
        "| ---------------- | ------- | ------- | ---------- | -------- | ---------------- | ------- | ------- | ---------- | -------- |\n",
        "| Dialog act       | None    | Rule    | Rule       | None     | Dialog act       | None    | None    | Rule       | None     |\n",
        "| Natural language | Bert    | Rule    | Rule       | None     | Dialog act       | None    | None    | Rule       | Template |\n",
        "| Dialog act       | None    | Rule    | Rule       | Template | Natural language | SVM     | None    | Rule       | None     |\n",
        "| Natural language | Bert    | Rule    | Rule       | Template | Natural language | SVM     | None    | Rule       | Template |\n",
        "\n",
        "\n",
        "We have tried the last configuration before. Let's try the second configuration.\n"
      ]
    },
    {
      "cell_type": "code",
      "metadata": {
        "id": "xdhFIGIJQNNF",
        "colab_type": "code",
        "colab": {}
      },
      "source": [
        "user_agent = PipelineAgent(user_nlu, user_dst, user_policy, None)\n",
        "sys_agent = PipelineAgent(None, sys_dst, sys_policy, sys_nlg)\n",
        "evaluator = MultiWozEvaluator()\n",
        "sess = BiSession(sys_agent=sys_agent, user_agent=user_agent, kb_query=None, evaluator=evaluator)"
      ],
      "execution_count": 0,
      "outputs": []
    },
    {
      "cell_type": "code",
      "metadata": {
        "id": "izje_L5UaTMb",
        "colab_type": "code",
        "colab": {
          "base_uri": "https://localhost:8080/",
          "height": 836
        },
        "outputId": "f2a22ff6-b075-47f8-c5b1-d54e20639b85"
      },
      "source": [
        "random.seed(20190827)\n",
        "np.random.seed(20190827)\n",
        "sys_response = ''\n",
        "sess.init_session()\n",
        "print('init goal:')\n",
        "pprint(sess.evaluator.goal)\n",
        "print('-'*50)\n",
        "for i in range(40):\n",
        "    sys_response, user_response, session_over, reward = sess.next_turn(sys_response)\n",
        "    print('user:', user_response)\n",
        "    print('sys:', sys_response)\n",
        "    print()\n",
        "    if session_over is True:\n",
        "        print('task success:', sess.evaluator.task_success())\n",
        "        print('book rate:', sess.evaluator.book_rate())\n",
        "        print('inform precision/recall/f1:', sess.evaluator.inform_F1())\n",
        "        print('-'*50)\n",
        "        print('final goal:')\n",
        "        pprint(sess.evaluator.goal)\n",
        "        print('='*100)\n",
        "        break"
      ],
      "execution_count": 14,
      "outputs": [
        {
          "output_type": "stream",
          "text": [
            "init goal:\n",
            "{'attraction': {'info': {'area': 'centre', 'type': 'college'},\n",
            "                'reqt': {'entrance fee': '?', 'phone': '?'}},\n",
            " 'train': {'book': {'people': '7'},\n",
            "           'booked': '?',\n",
            "           'info': {'day': 'wednesday',\n",
            "                    'departure': 'cambridge',\n",
            "                    'destination': 'london kings cross',\n",
            "                    'leaveAt': '12:15'},\n",
            "           'reqt': {'duration': '?'}}}\n",
            "--------------------------------------------------\n",
            "user: {'Attraction-Inform': [['Type', 'college'], ['Area', 'centre']]}\n",
            "sys: There are 13 , anything in particular you are looking for ? I 'd recommend emmanuel college . would you like some information on it ?\n",
            "\n",
            "user: {'Attraction-Request': [['Phone', '?'], ['Fee', '?']]}\n",
            "sys: The phone number is 01223334900 . Their entrance fee is free by our system currently .\n",
            "\n",
            "user: {'Train-Inform': [['Depart', 'cambridge'], ['Day', 'wednesday'], ['Leave', '12:15'], ['Dest', 'london kings cross']]}\n",
            "sys: Would you like me to book you on the 12:15 train ? Would you like to take the train on wednesday ? Woudl you like me to book a train to london kings cross for you ? Woudl you like me to book a train from cambridge for you ?\n",
            "\n",
            "user: {'Train-Inform': [['Dest', 'london kings cross']]}\n",
            "sys: There is a train arriving at 12:15 would you like me to book tickets for that one ? I can book your tickets for wednesday . Woudl you like me to book a train to london kings cross for you ? Woudl you like me to book a train from cambridge for you ?\n",
            "\n",
            "user: {'Train-Request': [['Time', '?']]}\n",
            "sys: That would be 51 minutes .\n",
            "\n",
            "user: {'Train-Inform': [['People', '7']]}\n",
            "sys: Booking was successful . reference number is : 00000024 .\n",
            "\n",
            "user: {'general-bye': [['none', 'none']]}\n",
            "sys: Thank you for using our services .\n",
            "\n",
            "task success: 1\n",
            "book rate: 1.0\n",
            "inform precision/recall/f1: (1.0, 1.0, 1.0)\n",
            "--------------------------------------------------\n",
            "final goal:\n",
            "{'attraction': {'info': {'area': 'centre', 'type': 'college'},\n",
            "                'reqt': {'entrance fee': 'free', 'phone': '01223334900'}},\n",
            " 'train': {'book': {'people': '7'},\n",
            "           'booked': 'yes',\n",
            "           'info': {'day': 'wednesday',\n",
            "                    'departure': 'cambridge',\n",
            "                    'destination': 'london kings cross',\n",
            "                    'leaveAt': '12:15'},\n",
            "           'reqt': {'duration': '51 minutes'}}}\n",
            "====================================================================================================\n"
          ],
          "name": "stdout"
        }
      ]
    },
    {
      "cell_type": "markdown",
      "metadata": {
        "id": "E3WOc0rZaZaL",
        "colab_type": "text"
      },
      "source": [
        "After removing user NLG and system NLU, the conversation is more efficient."
      ]
    },
    {
      "cell_type": "markdown",
      "metadata": {
        "collapsed": true,
        "id": "G0_s-zNCzLs5",
        "colab_type": "text"
      },
      "source": [
        "## Try Different Module Combinations\n",
        "\n",
        "The combination modes of pipeline agent modules are flexible. We support joint model such as [MDBT](https://www.aclweb.org/anthology/P18-2069) (NLU+DST) and [MDRG](https://pdfs.semanticscholar.org/47d0/1eb59cd37d16201fcae964bd1d2b49cfb55e.pdf) (Policy+NLG), once the input and output are matched with previous and next module. We also support End2End model such as [Sequicity](https://www.comp.nus.edu.sg/~kanmy/papers/acl18-sequicity.pdf)."
      ]
    },
    {
      "cell_type": "markdown",
      "metadata": {
        "id": "ge5RMjEEzLs6",
        "colab_type": "text"
      },
      "source": [
        "### MDBT\n",
        "- NLU: None\n",
        "- DST: MDBT\n",
        "- Policy: Rule\n",
        "- NLG: TemplateNLG"
      ]
    },
    {
      "cell_type": "code",
      "metadata": {
        "id": "jX389QdrzLs6",
        "colab_type": "code",
        "colab": {
          "base_uri": "https://localhost:8080/",
          "height": 870
        },
        "outputId": "b0d7665f-5d93-45e6-bec0-a17571febe0f"
      },
      "source": [
        "from tatk.dst.mdbt.multiwoz.mdbt import MultiWozMDBT\n",
        "nlu = None\n",
        "# simple rule DST\n",
        "dst = MultiWozMDBT()\n",
        "# rule policy\n",
        "policy = Rule()\n",
        "# template NLG\n",
        "nlg = TemplateNLG(is_user=False)\n",
        "# assemble\n",
        "sys_agent = PipelineAgent(nlu, dst, policy, nlg)"
      ],
      "execution_count": 15,
      "outputs": [
        {
          "output_type": "stream",
          "text": [
            "WARNING: Logging before flag parsing goes to stderr.\n",
            "W0822 08:46:10.471990 139669887043456 deprecation_wrapper.py:119] From /content/tatk/tatk/dst/mdbt/mdbt_util.py:62: The name tf.nn.rnn_cell.RNNCell is deprecated. Please use tf.compat.v1.nn.rnn_cell.RNNCell instead.\n",
            "\n",
            "100%|██████████| 262980414/262980414 [00:11<00:00, 23906669.40B/s]\n"
          ],
          "name": "stderr"
        },
        {
          "output_type": "stream",
          "text": [
            "Configuring MDBT model...\n"
          ],
          "name": "stdout"
        },
        {
          "output_type": "stream",
          "text": [
            "W0822 08:47:04.707965 139669887043456 deprecation_wrapper.py:119] From /content/tatk/tatk/dst/mdbt/mdbt_util.py:223: The name tf.placeholder is deprecated. Please use tf.compat.v1.placeholder instead.\n",
            "\n",
            "W0822 08:47:04.717306 139669887043456 deprecation_wrapper.py:119] From /content/tatk/tatk/dst/mdbt/mdbt_util.py:155: The name tf.variable_scope is deprecated. Please use tf.compat.v1.variable_scope instead.\n",
            "\n",
            "W0822 08:47:04.727715 139669887043456 deprecation.py:323] From /content/tatk/tatk/dst/mdbt/mdbt_util.py:162: LSTMCell.__init__ (from tensorflow.python.ops.rnn_cell_impl) is deprecated and will be removed in a future version.\n",
            "Instructions for updating:\n",
            "This class is equivalent as tf.keras.layers.LSTMCell, and will be replaced by that in Tensorflow 2.0.\n",
            "W0822 08:47:04.730188 139669887043456 deprecation.py:323] From /content/tatk/tatk/dst/mdbt/mdbt_util.py:173: bidirectional_dynamic_rnn (from tensorflow.python.ops.rnn) is deprecated and will be removed in a future version.\n",
            "Instructions for updating:\n",
            "Please use `keras.layers.Bidirectional(keras.layers.RNN(cell))`, which is equivalent to this API\n",
            "W0822 08:47:04.732398 139669887043456 deprecation.py:323] From /usr/local/lib/python3.6/dist-packages/tensorflow/python/ops/rnn.py:464: dynamic_rnn (from tensorflow.python.ops.rnn) is deprecated and will be removed in a future version.\n",
            "Instructions for updating:\n",
            "Please use `keras.layers.RNN(cell)`, which is equivalent to this API\n",
            "W0822 08:47:04.872215 139669887043456 deprecation.py:506] From /usr/local/lib/python3.6/dist-packages/tensorflow/python/ops/init_ops.py:1251: calling VarianceScaling.__init__ (from tensorflow.python.ops.init_ops) with dtype is deprecated and will be removed in a future version.\n",
            "Instructions for updating:\n",
            "Call initializer instance with the dtype argument instead of passing it to the constructor\n",
            "W0822 08:47:04.886405 139669887043456 deprecation.py:506] From /usr/local/lib/python3.6/dist-packages/tensorflow/python/ops/rnn_cell_impl.py:961: calling Zeros.__init__ (from tensorflow.python.ops.init_ops) with dtype is deprecated and will be removed in a future version.\n",
            "Instructions for updating:\n",
            "Call initializer instance with the dtype argument instead of passing it to the constructor\n",
            "W0822 08:47:05.593438 139669887043456 deprecation.py:323] From /usr/local/lib/python3.6/dist-packages/tensorflow/python/ops/rnn.py:244: add_dispatch_support.<locals>.wrapper (from tensorflow.python.ops.array_ops) is deprecated and will be removed in a future version.\n",
            "Instructions for updating:\n",
            "Use tf.where in 2.0, which has the same broadcast rule as np.where\n",
            "W0822 08:47:05.764285 139669887043456 deprecation.py:506] From /content/tatk/tatk/dst/mdbt/mdbt_util.py:262: calling dropout (from tensorflow.python.ops.nn_ops) with keep_prob is deprecated and will be removed in a future version.\n",
            "Instructions for updating:\n",
            "Please use `rate` instead of `keep_prob`. Rate should be set to `rate = 1 - keep_prob`.\n",
            "W0822 08:47:07.569519 139669887043456 deprecation_wrapper.py:119] From /content/tatk/tatk/dst/mdbt/mdbt_util.py:298: The name tf.random_normal is deprecated. Please use tf.random.normal instead.\n",
            "\n",
            "W0822 08:47:07.806453 139669887043456 deprecation_wrapper.py:119] From /content/tatk/tatk/dst/mdbt/mdbt_util.py:377: The name tf.diag is deprecated. Please use tf.linalg.tensor_diag instead.\n",
            "\n",
            "W0822 08:47:08.019694 139669887043456 deprecation_wrapper.py:119] From /content/tatk/tatk/dst/mdbt/mdbt_util.py:426: The name tf.matrix_set_diag is deprecated. Please use tf.linalg.set_diag instead.\n",
            "\n",
            "W0822 08:47:08.214307 139669887043456 deprecation.py:506] From /content/tatk/tatk/dst/mdbt/mdbt_util.py:457: calling reduce_max_v1 (from tensorflow.python.ops.math_ops) with keep_dims is deprecated and will be removed in a future version.\n",
            "Instructions for updating:\n",
            "keep_dims is deprecated, use keepdims instead\n",
            "W0822 08:47:16.509347 139669887043456 deprecation_wrapper.py:119] From /content/tatk/tatk/dst/mdbt/mdbt_util.py:473: The name tf.train.AdamOptimizer is deprecated. Please use tf.compat.v1.train.AdamOptimizer instead.\n",
            "\n",
            "W0822 08:47:38.054113 139669887043456 deprecation_wrapper.py:119] From /content/tatk/tatk/dst/mdbt/mdbt_util.py:522: The name tf.summary.scalar is deprecated. Please use tf.compat.v1.summary.scalar instead.\n",
            "\n",
            "W0822 08:47:38.159319 139669887043456 deprecation_wrapper.py:119] From /content/tatk/tatk/dst/mdbt/mdbt.py:71: The name tf.train.Saver is deprecated. Please use tf.compat.v1.train.Saver instead.\n",
            "\n",
            "W0822 08:47:38.344801 139669887043456 deprecation.py:323] From /usr/local/lib/python3.6/dist-packages/tensorflow/python/training/saver.py:1276: checkpoint_exists (from tensorflow.python.training.checkpoint_management) is deprecated and will be removed in a future version.\n",
            "Instructions for updating:\n",
            "Use standard file APIs to check for files with this prefix.\n"
          ],
          "name": "stderr"
        },
        {
          "output_type": "stream",
          "text": [
            "Loading trained MDBT model from  /content/tatk/tatk/dst/mdbt/multiwoz/configs/models/model-1\n"
          ],
          "name": "stdout"
        }
      ]
    },
    {
      "cell_type": "markdown",
      "metadata": {
        "id": "ywmBimGmzLs8",
        "colab_type": "text"
      },
      "source": [
        "### MDRG\n",
        "\n",
        "- NLU: SVM\n",
        "- DST: Rule\n",
        "- Policy: MDRG\n",
        "- NLG: None"
      ]
    },
    {
      "cell_type": "code",
      "metadata": {
        "id": "8f1JhaELzLs8",
        "colab_type": "code",
        "colab": {
          "base_uri": "https://localhost:8080/",
          "height": 204
        },
        "outputId": "fc170931-a3bb-44c5-b6d9-04f037ac3344"
      },
      "source": [
        "from tatk.policy.mdrg.multiwoz.policy import MDRGWordPolicy\n",
        "# svm nlu trained on usr sentence of multiwoz\n",
        "# go to README.md under `tatk/tatk/nlu/svm/multiwoz` for more information \n",
        "nlu = SVMNLU(mode='usr')\n",
        "# simple rule DST\n",
        "dst = RuleDST()\n",
        "# rule policy\n",
        "policy = MDRGWordPolicy()\n",
        "# template NLG\n",
        "nlg = None\n",
        "# assemble\n",
        "sys_agent = PipelineAgent(nlu, dst, policy, nlg)"
      ],
      "execution_count": 16,
      "outputs": [
        {
          "output_type": "stream",
          "text": [
            "Downloading from:  https://tatk-data.s3-ap-northeast-1.amazonaws.com/mdrg_model.zip\n",
            "Extracting...\n",
            "Downloading from:  https://tatk-data.s3-ap-northeast-1.amazonaws.com/mdrg_data.zip\n",
            "Extracting...\n",
            "Downloading from:  https://tatk-data.s3-ap-northeast-1.amazonaws.com/mdrg_db.zip\n",
            "Extracting...\n",
            "[<tatk.nlu.svm.Features.nbest object at 0x7f06a5b5e160>]\n",
            "loading saved Classifier\n",
            "loaded.\n",
            "Model has 383900  parameters.\n",
            "Loading parameters of iter 1 \n"
          ],
          "name": "stdout"
        }
      ]
    },
    {
      "cell_type": "markdown",
      "metadata": {
        "collapsed": true,
        "id": "Ndki-MWnzLs9",
        "colab_type": "text"
      },
      "source": [
        "### Sequicity\n",
        "\n",
        "Sequicity inherits from interface `Agent` directly."
      ]
    },
    {
      "cell_type": "code",
      "metadata": {
        "id": "yEs1yzMYzLs-",
        "colab_type": "code",
        "colab": {
          "base_uri": "https://localhost:8080/",
          "height": 309
        },
        "outputId": "72d4d1ce-1871-4b84-d6b6-d563267e40a6"
      },
      "source": [
        "from tatk.e2e.sequicity.multiwoz import Sequicity\n",
        "sequicity = Sequicity()\n",
        "sys_agent = sequicity"
      ],
      "execution_count": 17,
      "outputs": [
        {
          "output_type": "stream",
          "text": [
            "[nltk_data] Downloading package stopwords to /root/nltk_data...\n",
            "[nltk_data]   Package stopwords is already up-to-date!\n",
            "I0822 08:47:54.487334 139669887043456 connectionpool.py:813] Starting new HTTPS connection (1): tatk-data.s3-ap-northeast-1.amazonaws.com:443\n"
          ],
          "name": "stderr"
        },
        {
          "output_type": "stream",
          "text": [
            "down load data from https://tatk-data.s3-ap-northeast-1.amazonaws.com/sequicity_multiwoz_data.zip\n"
          ],
          "name": "stdout"
        },
        {
          "output_type": "stream",
          "text": [
            "I0822 08:47:54.895995 139669887043456 connectionpool.py:393] https://tatk-data.s3-ap-northeast-1.amazonaws.com:443 \"HEAD /sequicity_multiwoz_data.zip HTTP/1.1\" 200 0\n"
          ],
          "name": "stderr"
        },
        {
          "output_type": "stream",
          "text": [
            "unzip to /content/tatk/tatk/e2e/sequicity/multiwoz/\n"
          ],
          "name": "stdout"
        },
        {
          "output_type": "stream",
          "text": [
            "I0822 08:47:57.737369 139669887043456 connectionpool.py:813] Starting new HTTPS connection (1): tatk-data.s3-ap-northeast-1.amazonaws.com:443\n"
          ],
          "name": "stderr"
        },
        {
          "output_type": "stream",
          "text": [
            "Load from model_file param\n",
            "down load data from https://tatk-data.s3-ap-northeast-1.amazonaws.com/sequicity_multiwoz.zip\n"
          ],
          "name": "stdout"
        },
        {
          "output_type": "stream",
          "text": [
            "I0822 08:47:58.128657 139669887043456 connectionpool.py:393] https://tatk-data.s3-ap-northeast-1.amazonaws.com:443 \"HEAD /sequicity_multiwoz.zip HTTP/1.1\" 200 0\n"
          ],
          "name": "stderr"
        },
        {
          "output_type": "stream",
          "text": [
            "unzip to /content/tatk/tatk/e2e/sequicity/multiwoz/output\n",
            "total trainable params: 1717950\n"
          ],
          "name": "stdout"
        },
        {
          "output_type": "stream",
          "text": [
            "/usr/local/lib/python3.6/dist-packages/torch/nn/modules/rnn.py:54: UserWarning: dropout option adds dropout after all but last recurrent layer, so non-zero dropout expects num_layers greater than 1, but got dropout=0.5 and num_layers=1\n",
            "  \"num_layers={}\".format(dropout, num_layers))\n",
            "/content/tatk/tatk/e2e/sequicity/tsd_net.py:56: UserWarning: nn.init.orthogonal is now deprecated in favor of nn.init.orthogonal_.\n",
            "  torch.nn.init.orthogonal(hh[i:i+gru.hidden_size],gain=1)\n"
          ],
          "name": "stderr"
        }
      ]
    }
  ]
}