{
  "nbformat": 4,
  "nbformat_minor": 0,
  "metadata": {
    "kernelspec": {
      "name": "python3",
      "display_name": "Python 3"
    },
    "colab": {
      "name": "Getting_Started.ipynb",
      "version": "0.3.2",
      "provenance": []
    }
  },
  "cells": [
    {
      "cell_type": "markdown",
      "metadata": {
        "id": "pVDdXl-AzLsW",
        "colab_type": "text"
      },
      "source": [
        "# Getting Started\n",
        "\n",
        "In this tutorial, you will know how to\n",
        "- use the models in **tatk** to build a dialog agent.\n",
        "- build a simulator to chat with the agent and evaluate the performance.\n",
        "- try different module combinations.\n",
        "\n",
        "Let's get started!"
      ]
    },
    {
      "cell_type": "markdown",
      "metadata": {
        "id": "sUhkMPYWE3XO",
        "colab_type": "text"
      },
      "source": [
        "## Environment Setup\n",
        "Run the command below to install tatk for once. Then restart the notebook and ignore this commend."
      ]
    },
    {
      "cell_type": "code",
      "metadata": {
        "id": "m5YgCJuLzkOv",
        "colab_type": "code",
        "outputId": "57ab0541-4cba-4fb6-f901-381c96d22dde",
        "colab": {
          "base_uri": "https://localhost:8080/",
          "height": 1000
        }
      },
      "source": [
        "# first install tatk and restart the notebook\n",
        "! rm -rf tatk && git clone https://github.com/thu-coai/tatk.git && cd tatk && pip install -e ."
      ],
      "execution_count": 2,
      "outputs": [
        {
          "output_type": "stream",
          "text": [
            "Cloning into 'tatk'...\n",
            "remote: Enumerating objects: 37, done.\u001b[K\n",
            "remote: Counting objects: 100% (37/37), done.\u001b[K\n",
            "remote: Compressing objects: 100% (32/32), done.\u001b[K\n",
            "remote: Total 2569 (delta 14), reused 12 (delta 5), pack-reused 2532\u001b[K\n",
            "Receiving objects: 100% (2569/2569), 19.15 MiB | 31.67 MiB/s, done.\n",
            "Resolving deltas: 100% (1485/1485), done.\n",
            "Obtaining file:///content/tatk\n",
            "Collecting nltk>=3.4 (from tatk==0.0.1.dev20190822)\n",
            "\u001b[?25l  Downloading https://files.pythonhosted.org/packages/f6/1d/d925cfb4f324ede997f6d47bea4d9babba51b49e87a767c170b77005889d/nltk-3.4.5.zip (1.5MB)\n",
            "\u001b[K     |████████████████████████████████| 1.5MB 1.8MB/s \n",
            "\u001b[?25hCollecting tqdm>=4.30 (from tatk==0.0.1.dev20190822)\n",
            "\u001b[?25l  Downloading https://files.pythonhosted.org/packages/a5/83/06029af22fe06b8a7be013aeae5e104b3ed26867e5d4ca91408b30aa602e/tqdm-4.34.0-py2.py3-none-any.whl (50kB)\n",
            "\u001b[K     |████████████████████████████████| 51kB 19.1MB/s \n",
            "\u001b[?25hCollecting checksumdir>=1.1 (from tatk==0.0.1.dev20190822)\n",
            "  Downloading https://files.pythonhosted.org/packages/3d/d4/bbe28d0eeddd711dcfc37ec3946484ecce5589e0236f4e20cde33efa57f6/checksumdir-1.1.7.tar.gz\n",
            "Collecting visdom (from tatk==0.0.1.dev20190822)\n",
            "\u001b[?25l  Downloading https://files.pythonhosted.org/packages/97/c4/5f5356fd57ae3c269e0e31601ea6487e0622fedc6756a591e4a5fd66cc7a/visdom-0.1.8.8.tar.gz (1.4MB)\n",
            "\u001b[K     |████████████████████████████████| 1.4MB 37.7MB/s \n",
            "\u001b[?25hRequirement already satisfied: Pillow in /usr/local/lib/python3.6/dist-packages (from tatk==0.0.1.dev20190822) (4.3.0)\n",
            "Requirement already satisfied: future in /usr/local/lib/python3.6/dist-packages (from tatk==0.0.1.dev20190822) (0.16.0)\n",
            "Requirement already satisfied: torch in /usr/local/lib/python3.6/dist-packages (from tatk==0.0.1.dev20190822) (1.1.0)\n",
            "Requirement already satisfied: numpy>=1.15.0 in /usr/local/lib/python3.6/dist-packages (from tatk==0.0.1.dev20190822) (1.16.4)\n",
            "Requirement already satisfied: scipy in /usr/local/lib/python3.6/dist-packages (from tatk==0.0.1.dev20190822) (1.3.1)\n",
            "Collecting scikit-learn==0.20.3 (from tatk==0.0.1.dev20190822)\n",
            "\u001b[?25l  Downloading https://files.pythonhosted.org/packages/5e/82/c0de5839d613b82bddd088599ac0bbfbbbcbd8ca470680658352d2c435bd/scikit_learn-0.20.3-cp36-cp36m-manylinux1_x86_64.whl (5.4MB)\n",
            "\u001b[K     |████████████████████████████████| 5.4MB 31.0MB/s \n",
            "\u001b[?25hCollecting pytorch_pretrained_bert (from tatk==0.0.1.dev20190822)\n",
            "\u001b[?25l  Downloading https://files.pythonhosted.org/packages/d7/e0/c08d5553b89973d9a240605b9c12404bcf8227590de62bae27acbcfe076b/pytorch_pretrained_bert-0.6.2-py3-none-any.whl (123kB)\n",
            "\u001b[K     |████████████████████████████████| 133kB 33.2MB/s \n",
            "\u001b[?25hRequirement already satisfied: tensorflow==1.14 in /usr/local/lib/python3.6/dist-packages (from tatk==0.0.1.dev20190822) (1.14.0)\n",
            "Requirement already satisfied: tensorboard>=1.14.0 in /usr/local/lib/python3.6/dist-packages (from tatk==0.0.1.dev20190822) (1.14.0)\n",
            "Collecting tensorboardX==1.7 (from tatk==0.0.1.dev20190822)\n",
            "\u001b[?25l  Downloading https://files.pythonhosted.org/packages/a2/57/2f0a46538295b8e7f09625da6dd24c23f9d0d7ef119ca1c33528660130d5/tensorboardX-1.7-py2.py3-none-any.whl (238kB)\n",
            "\u001b[K     |████████████████████████████████| 245kB 45.7MB/s \n",
            "\u001b[?25hRequirement already satisfied: requests in /usr/local/lib/python3.6/dist-packages (from tatk==0.0.1.dev20190822) (2.21.0)\n",
            "Collecting simplejson (from tatk==0.0.1.dev20190822)\n",
            "\u001b[?25l  Downloading https://files.pythonhosted.org/packages/e3/24/c35fb1c1c315fc0fffe61ea00d3f88e85469004713dab488dee4f35b0aff/simplejson-3.16.0.tar.gz (81kB)\n",
            "\u001b[K     |████████████████████████████████| 81kB 24.4MB/s \n",
            "\u001b[?25hRequirement already satisfied: six in /usr/local/lib/python3.6/dist-packages (from nltk>=3.4->tatk==0.0.1.dev20190822) (1.12.0)\n",
            "Requirement already satisfied: tornado in /usr/local/lib/python3.6/dist-packages (from visdom->tatk==0.0.1.dev20190822) (4.5.3)\n",
            "Requirement already satisfied: pyzmq in /usr/local/lib/python3.6/dist-packages (from visdom->tatk==0.0.1.dev20190822) (17.0.0)\n",
            "Collecting torchfile (from visdom->tatk==0.0.1.dev20190822)\n",
            "  Downloading https://files.pythonhosted.org/packages/91/af/5b305f86f2d218091af657ddb53f984ecbd9518ca9fe8ef4103a007252c9/torchfile-0.1.0.tar.gz\n",
            "Collecting websocket-client (from visdom->tatk==0.0.1.dev20190822)\n",
            "\u001b[?25l  Downloading https://files.pythonhosted.org/packages/29/19/44753eab1fdb50770ac69605527e8859468f3c0fd7dc5a76dd9c4dbd7906/websocket_client-0.56.0-py2.py3-none-any.whl (200kB)\n",
            "\u001b[K     |████████████████████████████████| 204kB 44.8MB/s \n",
            "\u001b[?25hRequirement already satisfied: olefile in /usr/local/lib/python3.6/dist-packages (from Pillow->tatk==0.0.1.dev20190822) (0.46)\n",
            "Collecting regex (from pytorch_pretrained_bert->tatk==0.0.1.dev20190822)\n",
            "\u001b[?25l  Downloading https://files.pythonhosted.org/packages/6f/a6/99eeb5904ab763db87af4bd71d9b1dfdd9792681240657a4c0a599c10a81/regex-2019.08.19.tar.gz (654kB)\n",
            "\u001b[K     |████████████████████████████████| 655kB 45.4MB/s \n",
            "\u001b[?25hRequirement already satisfied: boto3 in /usr/local/lib/python3.6/dist-packages (from pytorch_pretrained_bert->tatk==0.0.1.dev20190822) (1.9.205)\n",
            "Requirement already satisfied: absl-py>=0.7.0 in /usr/local/lib/python3.6/dist-packages (from tensorflow==1.14->tatk==0.0.1.dev20190822) (0.7.1)\n",
            "Requirement already satisfied: astor>=0.6.0 in /usr/local/lib/python3.6/dist-packages (from tensorflow==1.14->tatk==0.0.1.dev20190822) (0.8.0)\n",
            "Requirement already satisfied: wrapt>=1.11.1 in /usr/local/lib/python3.6/dist-packages (from tensorflow==1.14->tatk==0.0.1.dev20190822) (1.11.2)\n",
            "Requirement already satisfied: gast>=0.2.0 in /usr/local/lib/python3.6/dist-packages (from tensorflow==1.14->tatk==0.0.1.dev20190822) (0.2.2)\n",
            "Requirement already satisfied: google-pasta>=0.1.6 in /usr/local/lib/python3.6/dist-packages (from tensorflow==1.14->tatk==0.0.1.dev20190822) (0.1.7)\n",
            "Requirement already satisfied: grpcio>=1.8.6 in /usr/local/lib/python3.6/dist-packages (from tensorflow==1.14->tatk==0.0.1.dev20190822) (1.15.0)\n",
            "Requirement already satisfied: wheel>=0.26 in /usr/local/lib/python3.6/dist-packages (from tensorflow==1.14->tatk==0.0.1.dev20190822) (0.33.4)\n",
            "Requirement already satisfied: termcolor>=1.1.0 in /usr/local/lib/python3.6/dist-packages (from tensorflow==1.14->tatk==0.0.1.dev20190822) (1.1.0)\n",
            "Requirement already satisfied: keras-preprocessing>=1.0.5 in /usr/local/lib/python3.6/dist-packages (from tensorflow==1.14->tatk==0.0.1.dev20190822) (1.1.0)\n",
            "Requirement already satisfied: tensorflow-estimator<1.15.0rc0,>=1.14.0rc0 in /usr/local/lib/python3.6/dist-packages (from tensorflow==1.14->tatk==0.0.1.dev20190822) (1.14.0)\n",
            "Requirement already satisfied: protobuf>=3.6.1 in /usr/local/lib/python3.6/dist-packages (from tensorflow==1.14->tatk==0.0.1.dev20190822) (3.7.1)\n",
            "Requirement already satisfied: keras-applications>=1.0.6 in /usr/local/lib/python3.6/dist-packages (from tensorflow==1.14->tatk==0.0.1.dev20190822) (1.0.8)\n",
            "Requirement already satisfied: setuptools>=41.0.0 in /usr/local/lib/python3.6/dist-packages (from tensorboard>=1.14.0->tatk==0.0.1.dev20190822) (41.1.0)\n",
            "Requirement already satisfied: markdown>=2.6.8 in /usr/local/lib/python3.6/dist-packages (from tensorboard>=1.14.0->tatk==0.0.1.dev20190822) (3.1.1)\n",
            "Requirement already satisfied: werkzeug>=0.11.15 in /usr/local/lib/python3.6/dist-packages (from tensorboard>=1.14.0->tatk==0.0.1.dev20190822) (0.15.5)\n",
            "Requirement already satisfied: chardet<3.1.0,>=3.0.2 in /usr/local/lib/python3.6/dist-packages (from requests->tatk==0.0.1.dev20190822) (3.0.4)\n",
            "Requirement already satisfied: urllib3<1.25,>=1.21.1 in /usr/local/lib/python3.6/dist-packages (from requests->tatk==0.0.1.dev20190822) (1.24.3)\n",
            "Requirement already satisfied: idna<2.9,>=2.5 in /usr/local/lib/python3.6/dist-packages (from requests->tatk==0.0.1.dev20190822) (2.8)\n",
            "Requirement already satisfied: certifi>=2017.4.17 in /usr/local/lib/python3.6/dist-packages (from requests->tatk==0.0.1.dev20190822) (2019.6.16)\n",
            "Requirement already satisfied: s3transfer<0.3.0,>=0.2.0 in /usr/local/lib/python3.6/dist-packages (from boto3->pytorch_pretrained_bert->tatk==0.0.1.dev20190822) (0.2.1)\n",
            "Requirement already satisfied: botocore<1.13.0,>=1.12.205 in /usr/local/lib/python3.6/dist-packages (from boto3->pytorch_pretrained_bert->tatk==0.0.1.dev20190822) (1.12.205)\n",
            "Requirement already satisfied: jmespath<1.0.0,>=0.7.1 in /usr/local/lib/python3.6/dist-packages (from boto3->pytorch_pretrained_bert->tatk==0.0.1.dev20190822) (0.9.4)\n",
            "Requirement already satisfied: h5py in /usr/local/lib/python3.6/dist-packages (from keras-applications>=1.0.6->tensorflow==1.14->tatk==0.0.1.dev20190822) (2.8.0)\n",
            "Requirement already satisfied: docutils<0.15,>=0.10 in /usr/local/lib/python3.6/dist-packages (from botocore<1.13.0,>=1.12.205->boto3->pytorch_pretrained_bert->tatk==0.0.1.dev20190822) (0.14)\n",
            "Requirement already satisfied: python-dateutil<3.0.0,>=2.1; python_version >= \"2.7\" in /usr/local/lib/python3.6/dist-packages (from botocore<1.13.0,>=1.12.205->boto3->pytorch_pretrained_bert->tatk==0.0.1.dev20190822) (2.5.3)\n",
            "Building wheels for collected packages: nltk, checksumdir, visdom, simplejson, torchfile, regex\n",
            "  Building wheel for nltk (setup.py) ... \u001b[?25l\u001b[?25hdone\n",
            "  Created wheel for nltk: filename=nltk-3.4.5-cp36-none-any.whl size=1449907 sha256=89210443b0ffa83544d7ecdb25393bd10afbe8073d936fcc8083bfa99ebe88e6\n",
            "  Stored in directory: /root/.cache/pip/wheels/96/86/f6/68ab24c23f207c0077381a5e3904b2815136b879538a24b483\n",
            "  Building wheel for checksumdir (setup.py) ... \u001b[?25l\u001b[?25hdone\n",
            "  Created wheel for checksumdir: filename=checksumdir-1.1.7-cp36-none-any.whl size=4243 sha256=15ac6c1dc59f0dbfe78109c59dd87ff3d13d90830d9fa0fcf0578021e1acd124\n",
            "  Stored in directory: /root/.cache/pip/wheels/1a/07/7b/eccc69ce00a14d3e7800834ecc79e0b76d2b6b82891e8506fe\n",
            "  Building wheel for visdom (setup.py) ... \u001b[?25l\u001b[?25hdone\n",
            "  Created wheel for visdom: filename=visdom-0.1.8.8-cp36-none-any.whl size=1350602 sha256=c70e015659d07e73369d3b5703054d587612aca8ab82d193247e27b001e94a32\n",
            "  Stored in directory: /root/.cache/pip/wheels/ee/87/ce/a5023722374ca73b57fc8d4284ba6f973c01219b3c385a07e0\n",
            "  Building wheel for simplejson (setup.py) ... \u001b[?25l\u001b[?25hdone\n",
            "  Created wheel for simplejson: filename=simplejson-3.16.0-cp36-cp36m-linux_x86_64.whl size=114017 sha256=fc52e3b44a1fef7c4c3114a26d3642c3224caab7a4979aae08ad7042d2e55acf\n",
            "  Stored in directory: /root/.cache/pip/wheels/5d/1a/1e/0350bb3df3e74215cd91325344cc86c2c691f5306eb4d22c77\n",
            "  Building wheel for torchfile (setup.py) ... \u001b[?25l\u001b[?25hdone\n",
            "  Created wheel for torchfile: filename=torchfile-0.1.0-cp36-none-any.whl size=5713 sha256=8f1bda874f82f4c1f35670c1e5aca4cabd24b05172ceaa0b4fe3082b7d1ecadc\n",
            "  Stored in directory: /root/.cache/pip/wheels/b1/c3/d6/9a1cc8f3a99a0fc1124cae20153f36af59a6e683daca0a0814\n",
            "  Building wheel for regex (setup.py) ... \u001b[?25l\u001b[?25hdone\n",
            "  Created wheel for regex: filename=regex-2019.8.19-cp36-cp36m-linux_x86_64.whl size=609246 sha256=71961216b2c257315cf44b4470bc13b71e7a38c8734df54b19fff047ca4278a8\n",
            "  Stored in directory: /root/.cache/pip/wheels/90/04/07/b5010fb816721eb3d6dd64ed5cc8111ca23f97fdab8619b5be\n",
            "Successfully built nltk checksumdir visdom simplejson torchfile regex\n",
            "Installing collected packages: nltk, tqdm, checksumdir, torchfile, websocket-client, visdom, scikit-learn, regex, pytorch-pretrained-bert, tensorboardX, simplejson, tatk\n",
            "  Found existing installation: nltk 3.2.5\n",
            "    Uninstalling nltk-3.2.5:\n",
            "      Successfully uninstalled nltk-3.2.5\n",
            "  Found existing installation: tqdm 4.28.1\n",
            "    Uninstalling tqdm-4.28.1:\n",
            "      Successfully uninstalled tqdm-4.28.1\n",
            "  Found existing installation: scikit-learn 0.21.3\n",
            "    Uninstalling scikit-learn-0.21.3:\n",
            "      Successfully uninstalled scikit-learn-0.21.3\n",
            "  Running setup.py develop for tatk\n",
            "Successfully installed checksumdir-1.1.7 nltk-3.4.5 pytorch-pretrained-bert-0.6.2 regex-2019.8.19 scikit-learn-0.20.3 simplejson-3.16.0 tatk tensorboardX-1.7 torchfile-0.1.0 tqdm-4.34.0 visdom-0.1.8.8 websocket-client-0.56.0\n"
          ],
          "name": "stdout"
        }
      ]
    },
    {
      "cell_type": "markdown",
      "metadata": {
        "id": "Ec2qTTc4zLsY",
        "colab_type": "text"
      },
      "source": [
        "## Build an agent\n",
        "\n",
        "We use the models adapted on [Multiwoz dataset](https://www.aclweb.org/anthology/D18-1547) to build our agent. This pipeline agent consists of NLU, DST, Policy and NLG modules.\n",
        "\n",
        "First, import some models:"
      ]
    },
    {
      "cell_type": "code",
      "metadata": {
        "id": "z1EUye0VzLsZ",
        "colab_type": "code",
        "colab": {}
      },
      "source": [
        "import sys\n",
        "import os\n",
        "# Agent\n",
        "from tatk.dialog_agent import PipelineAgent, BiSession\n",
        "# common import: tatk.$module.$model.$dataset\n",
        "from tatk.nlu.svm.multiwoz import SVMNLU\n",
        "from tatk.nlu.bert.multiwoz import BERTNLU\n",
        "from tatk.dst.rule.multiwoz import RuleDST\n",
        "from tatk.policy.rule.multiwoz import Rule\n",
        "from tatk.nlg.template.multiwoz import TemplateNLG\n",
        "from tatk.evaluator.multiwoz_eval import MultiWozEvaluator\n",
        "import random\n",
        "import numpy as np\n",
        "from pprint import pprint"
      ],
      "execution_count": 0,
      "outputs": []
    },
    {
      "cell_type": "markdown",
      "metadata": {
        "id": "4blugP4xzLsc",
        "colab_type": "text"
      },
      "source": [
        "Then, create the models and build an agent:"
      ]
    },
    {
      "cell_type": "code",
      "metadata": {
        "id": "0cwV57AVzLsc",
        "colab_type": "code",
        "outputId": "dbe8e248-e7b5-44c3-a13c-06141c3489ad",
        "colab": {
          "base_uri": "https://localhost:8080/",
          "height": 102
        }
      },
      "source": [
        "# svm nlu trained on usr sentence of multiwoz\n",
        "# go to README.md under `tatk/tatk/nlu/svm/multiwoz` for more information \n",
        "sys_nlu = SVMNLU('usr',model_file=\"https://tatk-data.s3-ap-northeast-1.amazonaws.com/svm_multiwoz_usr.zip\")\n",
        "# simple rule DST\n",
        "sys_dst = RuleDST()\n",
        "# rule policy\n",
        "sys_policy = Rule(character='sys')\n",
        "# template NLG\n",
        "sys_nlg = TemplateNLG(is_user=False)\n",
        "# assemble\n",
        "sys_agent = PipelineAgent(sys_nlu, sys_dst, sys_policy, sys_nlg)\n"
      ],
      "execution_count": 2,
      "outputs": [
        {
          "output_type": "stream",
          "text": [
            "[<tatk.nlu.svm.Features.nbest object at 0x7f1f07eaa550>]\n",
            "Load from model_file param\n"
          ],
          "name": "stdout"
        },
        {
          "output_type": "stream",
          "text": [
            "100%|██████████| 15903199/15903199 [00:02<00:00, 6519028.66B/s]\n"
          ],
          "name": "stderr"
        },
        {
          "output_type": "stream",
          "text": [
            "loading saved Classifier\n",
            "loaded.\n"
          ],
          "name": "stdout"
        }
      ]
    },
    {
      "cell_type": "markdown",
      "metadata": {
        "id": "cVJZ63CwzLsg",
        "colab_type": "text"
      },
      "source": [
        "That's all! Let's chat with the agent using its `response` function:"
      ]
    },
    {
      "cell_type": "code",
      "metadata": {
        "id": "Et-Rc6jOzLsg",
        "colab_type": "code",
        "outputId": "180fbc31-2f65-44ba-e88e-87b87510580b",
        "colab": {
          "base_uri": "https://localhost:8080/",
          "height": 34
        }
      },
      "source": [
        "sys_agent.response(\"I want to find a moderate hotel\")"
      ],
      "execution_count": 3,
      "outputs": [
        {
          "output_type": "execute_result",
          "data": {
            "text/plain": [
              "'We have 18 such places . Yes , i would suggest a and b guest house. The reference number is 00000000 .'"
            ]
          },
          "metadata": {
            "tags": []
          },
          "execution_count": 3
        }
      ]
    },
    {
      "cell_type": "code",
      "metadata": {
        "id": "xpKzSlWvzLsj",
        "colab_type": "code",
        "outputId": "bd3cede1-8d76-4057-aece-1b0def2406fb",
        "colab": {
          "base_uri": "https://localhost:8080/",
          "height": 34
        }
      },
      "source": [
        "sys_agent.response(\"Which type of hotel is it ?\")"
      ],
      "execution_count": 4,
      "outputs": [
        {
          "output_type": "execute_result",
          "data": {
            "text/plain": [
              "'It is a guesthouse .'"
            ]
          },
          "metadata": {
            "tags": []
          },
          "execution_count": 4
        }
      ]
    },
    {
      "cell_type": "code",
      "metadata": {
        "id": "byx2hhf_zLsl",
        "colab_type": "code",
        "outputId": "21f3fd41-35d2-4f16-bdb5-45ae2df9ac8d",
        "colab": {
          "base_uri": "https://localhost:8080/",
          "height": 34
        }
      },
      "source": [
        "sys_agent.response(\"OK , where is its address ?\")"
      ],
      "execution_count": 5,
      "outputs": [
        {
          "output_type": "execute_result",
          "data": {
            "text/plain": [
              "'Pool way, whitehill road, off newmarket road is the address.'"
            ]
          },
          "metadata": {
            "tags": []
          },
          "execution_count": 5
        }
      ]
    },
    {
      "cell_type": "code",
      "metadata": {
        "id": "C7scb4RHzLsm",
        "colab_type": "code",
        "outputId": "99d268b9-170d-4a3a-c521-42ad7ba02fbf",
        "colab": {
          "base_uri": "https://localhost:8080/",
          "height": 34
        }
      },
      "source": [
        "sys_agent.response(\"Thank you !\")"
      ],
      "execution_count": 6,
      "outputs": [
        {
          "output_type": "execute_result",
          "data": {
            "text/plain": [
              "'Okay ! glad i could help . enjoy your stay .'"
            ]
          },
          "metadata": {
            "tags": []
          },
          "execution_count": 6
        }
      ]
    },
    {
      "cell_type": "code",
      "metadata": {
        "id": "WmWF55UrzLso",
        "colab_type": "code",
        "outputId": "ef9f9ee3-bdb3-4fe2-9547-1e227760260f",
        "colab": {
          "base_uri": "https://localhost:8080/",
          "height": 34
        }
      },
      "source": [
        "sys_agent.response(\"Try to find me a Chinese restaurant in south area .\")"
      ],
      "execution_count": 7,
      "outputs": [
        {
          "output_type": "execute_result",
          "data": {
            "text/plain": [
              "'Yes , there are 3 available restaurants . I would suggest the good luck chinese food takeaway . The reference number is 00000003 . It is located in the south .'"
            ]
          },
          "metadata": {
            "tags": []
          },
          "execution_count": 7
        }
      ]
    },
    {
      "cell_type": "code",
      "metadata": {
        "id": "R-cseCinzLsq",
        "colab_type": "code",
        "outputId": "bc50d193-cb2f-4ee5-8265-36f7077ab32a",
        "colab": {
          "base_uri": "https://localhost:8080/",
          "height": 34
        }
      },
      "source": [
        "sys_agent.response(\"Which kind of food it provides ?\")"
      ],
      "execution_count": 8,
      "outputs": [
        {
          "output_type": "execute_result",
          "data": {
            "text/plain": [
              "'They serve chinese food .'"
            ]
          },
          "metadata": {
            "tags": []
          },
          "execution_count": 8
        }
      ]
    },
    {
      "cell_type": "code",
      "metadata": {
        "id": "kMLTBFL6zLst",
        "colab_type": "code",
        "outputId": "860e63da-953f-4028-8aed-750612ad4ba5",
        "colab": {
          "base_uri": "https://localhost:8080/",
          "height": 34
        }
      },
      "source": [
        "sys_agent.response(\"Book a table for 5 , this Sunday .\")"
      ],
      "execution_count": 9,
      "outputs": [
        {
          "output_type": "execute_result",
          "data": {
            "text/plain": [
              "'Reference number is : 00000003 .'"
            ]
          },
          "metadata": {
            "tags": []
          },
          "execution_count": 9
        }
      ]
    },
    {
      "cell_type": "markdown",
      "metadata": {
        "id": "hnxPfsenzLsw",
        "colab_type": "text"
      },
      "source": [
        "## Build a Simulator to Chat with the Agent and Evaluate\n",
        "\n",
        "In many one-to-one task-oriented dialog system, a simulator is essential to train an RL agent. In our framework, we doesn't distinguish user or system, all speakers are **agents**. The simulator is also an agent, with specific policy inside for accomplishing the user goal.\n",
        "\n",
        "We use Agenda policy for the simulator, this policy requires dialog act input, which means we should set DST argument of `PipelineAgent` to `None`. Then the `PipelineAgent` will pass dialog act to policy directly. Refer to `PipelineAgent` doc for more details."
      ]
    },
    {
      "cell_type": "code",
      "metadata": {
        "id": "CM2p1xwWzLsx",
        "colab_type": "code",
        "outputId": "ca7721b3-cc92-4662-d052-dd4f27c50dad",
        "colab": {
          "base_uri": "https://localhost:8080/",
          "height": 306
        }
      },
      "source": [
        "# bert nlu trained on sys sentence of multiwoz\n",
        "# go to README.md under `tatk/tatk/nlu/bert/multiwoz` for more information \n",
        "user_nlu = BERTNLU('sys',model_file=\"https://tatk-data.s3-ap-northeast-1.amazonaws.com/bert_multiwoz_sys.zip\")\n",
        "# not use dst\n",
        "user_dst = None\n",
        "# rule policy\n",
        "user_policy = Rule(character='usr')\n",
        "# template NLG\n",
        "user_nlg = TemplateNLG(is_user=True)\n",
        "# assemble\n",
        "user_agent = PipelineAgent(user_nlu, user_dst, user_policy, user_nlg)"
      ],
      "execution_count": 10,
      "outputs": [
        {
          "output_type": "stream",
          "text": [
            "load train, size 8434\n",
            "load val, size 999\n",
            "load test, size 1000\n",
            "loaded train, size 56750\n",
            "loaded val, size 7365\n",
            "loaded test, size 7372\n",
            "dialog act num: 34\n",
            "sentence label num: 64\n",
            "tag num: 312\n"
          ],
          "name": "stdout"
        },
        {
          "output_type": "stream",
          "text": [
            "100%|██████████| 231508/231508 [00:00<00:00, 3913016.04B/s]\n"
          ],
          "name": "stderr"
        },
        {
          "output_type": "stream",
          "text": [
            "Load from model_file param\n"
          ],
          "name": "stdout"
        },
        {
          "output_type": "stream",
          "text": [
            "100%|██████████| 1076596/1076596 [00:00<00:00, 1125435.95B/s]\n"
          ],
          "name": "stderr"
        },
        {
          "output_type": "stream",
          "text": [
            "Load from /content/tatk/tatk/nlu/bert/multiwoz/output/sys/bestcheckpoint.tar\n",
            "train step 29900\n"
          ],
          "name": "stdout"
        },
        {
          "output_type": "stream",
          "text": [
            "100%|██████████| 407873900/407873900 [00:06<00:00, 62204605.09B/s]\n"
          ],
          "name": "stderr"
        },
        {
          "output_type": "stream",
          "text": [
            "BERTNLU loaded\n",
            "Loading goal model is done\n"
          ],
          "name": "stdout"
        }
      ]
    },
    {
      "cell_type": "markdown",
      "metadata": {
        "id": "PgDsgQRCzLsz",
        "colab_type": "text"
      },
      "source": [
        "Now we have a simulator and an agent. we will use an existed simple one-to-one conversation controller `BiSession`, you can also define your own Session class for your special need. \n",
        "\n",
        "We add `MultiWozEvaluator` to evaluate the performance. It uses the parsed dialog act input and policy output dialog act to calculate **inform f1**, **book rate**, and whether the task is **success**."
      ]
    },
    {
      "cell_type": "code",
      "metadata": {
        "id": "xIHaiwndzLsz",
        "colab_type": "code",
        "colab": {}
      },
      "source": [
        "evaluator = MultiWozEvaluator()\n",
        "sess = BiSession(sys_agent=sys_agent, user_agent=user_agent, kb_query=None, evaluator=evaluator)"
      ],
      "execution_count": 0,
      "outputs": []
    },
    {
      "cell_type": "markdown",
      "metadata": {
        "id": "N3tkmnhXzLs1",
        "colab_type": "text"
      },
      "source": [
        "Let's make this two agents chat! The key is `next_turn` method of Session class."
      ]
    },
    {
      "cell_type": "code",
      "metadata": {
        "id": "kMiGhBFaU1Qk",
        "colab_type": "code",
        "colab": {
          "base_uri": "https://localhost:8080/",
          "height": 1000
        },
        "outputId": "297dba9b-c3b9-4d42-f58e-df492f50da4a"
      },
      "source": [
        "random.seed(20190827)\n",
        "np.random.seed(20190827)\n",
        "sys_response = ''\n",
        "sess.init_session()\n",
        "print('init goal:')\n",
        "pprint(sess.evaluator.goal)\n",
        "print('-'*50)\n",
        "for i in range(40):\n",
        "    sys_response, user_response, session_over, reward = sess.next_turn(sys_response)\n",
        "    print('user:', user_response)\n",
        "    print('sys:', sys_response)\n",
        "    print()\n",
        "    if session_over is True:\n",
        "        print('task success:', sess.evaluator.task_success())\n",
        "        print('book rate:', sess.evaluator.book_rate())\n",
        "        print('inform precision/recall/f1:', sess.evaluator.inform_F1())\n",
        "        print('-'*50)\n",
        "        print('final goal:')\n",
        "        pprint(sess.evaluator.goal)\n",
        "        print('='*100)\n",
        "        break"
      ],
      "execution_count": 12,
      "outputs": [
        {
          "output_type": "stream",
          "text": [
            "init goal:\n",
            "{'attraction': {'info': {'area': 'centre', 'type': 'college'},\n",
            "                'reqt': {'entrance fee': '?', 'phone': '?'}},\n",
            " 'train': {'book': {'people': '7'},\n",
            "           'booked': '?',\n",
            "           'info': {'day': 'wednesday',\n",
            "                    'departure': 'cambridge',\n",
            "                    'destination': 'london kings cross',\n",
            "                    'leaveAt': '12:15'},\n",
            "           'reqt': {'duration': '?'}}}\n",
            "--------------------------------------------------\n",
            "user: Do you have any college attractions. I am also looking for places to go in town . maybe something in the centre .\n",
            "sys: There are 44 , anything in particular you are looking for ? I 'd recommend the fez club . would you like some information on it ?\n",
            "\n",
            "user: Can you give me their phone number please ? Yes , what are the entrance fees ?\n",
            "sys: Its entrance fee is ? . The phone number is 01223300085 .\n",
            "\n",
            "user: I just need to know how much the entrance fee is .\n",
            "sys: The park is ? .\n",
            "\n",
            "user: Okay , are there any colleges in the centre ?\n",
            "sys: There are 13 . would you like me to recommend one for you ? Would you like hughes hall ?\n",
            "\n",
            "user: I just need to know how much the entrance fee is .\n",
            "sys: Their entrance fee is free by our system currently .\n",
            "\n",
            "user: I am departing from cambridge . I will leav on wednesday . I would like to leave anytime after 12:15 . I need to find a train to london kings cross please .\n",
            "sys: When would you like to leave by ? Where did you want to depart from ?\n",
            "\n",
            "user: The earlier the better , so whichever train leaves closest to 12:15. I ' m looking to travel on wednesday. Is it going to cambridge ?\n",
            "sys: Where will you be leaving from ?\n",
            "\n",
            "user: Thanks ! i also need a train departing from cambridge .\n",
            "sys: Where are you departing from ?\n",
            "\n",
            "user: I need some information on a train going to london kings cross . I ' m departing from cambridge .\n",
            "sys: Where will you be leaving from ?\n",
            "\n",
            "user: I 'll be departing from cambridge .\n",
            "sys: Where will you be traveling from ?\n",
            "\n",
            "user: I ' m departing from cambridge .\n",
            "sys: Where are you departing from ?\n",
            "\n",
            "user: I am going to london kings cross. I ' m departing from cambridge .\n",
            "sys: Where did you want to depart from ?\n",
            "\n",
            "user: I ' m also looking for a train from cambridge .\n",
            "sys: Would you like me to book you on the 12:15 train ? I can book your tickets for wednesday . Woudl you like me to book a train to cambridge for you ? Woudl you like me to book a train from cambridge for you ?\n",
            "\n",
            "user: Yes , what is the duration of the train ride ?\n",
            "sys: The trip will last 51 minutes.\n",
            "\n",
            "user: Yes , can you book that for 7 ?\n",
            "sys: All set . your reference number is 00000024 .\n",
            "\n",
            "user: You were great . goodbye .\n",
            "sys: We have 110 such places . The pipasha restaurant is a nice place would you like to try that one ?\n",
            "\n",
            "task success: 1\n",
            "book rate: 1.0\n",
            "inform precision/recall/f1: (1.0, 1.0, 1.0)\n",
            "--------------------------------------------------\n",
            "final goal:\n",
            "{'attraction': {'info': {'area': 'centre', 'type': 'college'},\n",
            "                'reqt': {'entrance fee': 'free', 'phone': '01223300085'}},\n",
            " 'train': {'book': {'people': '7'},\n",
            "           'booked': 'yes',\n",
            "           'info': {'day': 'wednesday',\n",
            "                    'departure': 'cambridge',\n",
            "                    'destination': 'london kings cross',\n",
            "                    'leaveAt': '12:15'},\n",
            "           'reqt': {'duration': '51 minutes'}}}\n",
            "====================================================================================================\n"
          ],
          "name": "stdout"
        }
      ]
    },
    {
      "cell_type": "markdown",
      "metadata": {
        "id": "bP75e8TRMznh",
        "colab_type": "text"
      },
      "source": [
        "`BiSession` allows two agents chat in dialog act level or natural language level, once the input and output are consistent. Example configurations:\n",
        "\n",
        "| usr input        | usr NLU | usr DST | usr Policy | usr NLG  | sys input        | sys NLU | sys DST | sys Policy | sys NLG  |\n",
        "| ---------------- | ------- | ------- | ---------- | -------- | ---------------- | ------- | ------- | ---------- | -------- |\n",
        "| Dialog act       | None    | Rule    | Rule       | None     | Dialog act       | None    | None    | Rule       | None     |\n",
        "| Natural language | Bert    | Rule    | Rule       | None     | Dialog act       | None    | None    | Rule       | Template |\n",
        "| Dialog act       | None    | Rule    | Rule       | Template | Natural language | SVM     | None    | Rule       | None     |\n",
        "| Natural language | Bert    | Rule    | Rule       | Template | Natural language | SVM     | None    | Rule       | Template |\n",
        "\n",
        "\n",
        "We have tried the last configuration before. Let's try the second configuration.\n"
      ]
    },
    {
      "cell_type": "code",
      "metadata": {
        "id": "xdhFIGIJQNNF",
        "colab_type": "code",
        "colab": {}
      },
      "source": [
        "user_agent = PipelineAgent(user_nlu, user_dst, user_policy, None)\n",
        "sys_agent = PipelineAgent(None, sys_dst, sys_policy, sys_nlg)\n",
        "evaluator = MultiWozEvaluator()\n",
        "sess = BiSession(sys_agent=sys_agent, user_agent=user_agent, kb_query=None, evaluator=evaluator)"
      ],
      "execution_count": 0,
      "outputs": []
    },
    {
      "cell_type": "code",
      "metadata": {
        "id": "izje_L5UaTMb",
        "colab_type": "code",
        "colab": {
          "base_uri": "https://localhost:8080/",
          "height": 785
        },
        "outputId": "6fc9515c-97b2-4455-89f1-928c7fdc1d11"
      },
      "source": [
        "random.seed(20190827)\n",
        "np.random.seed(20190827)\n",
        "sys_response = ''\n",
        "sess.init_session()\n",
        "print('init goal:')\n",
        "pprint(sess.evaluator.goal)\n",
        "print('-'*50)\n",
        "for i in range(40):\n",
        "    sys_response, user_response, session_over, reward = sess.next_turn(sys_response)\n",
        "    print('user:', user_response)\n",
        "    print('sys:', sys_response)\n",
        "    print()\n",
        "    if session_over is True:\n",
        "        print('task success:', sess.evaluator.task_success())\n",
        "        print('book rate:', sess.evaluator.book_rate())\n",
        "        print('inform precision/recall/f1:', sess.evaluator.inform_F1())\n",
        "        print('-'*50)\n",
        "        print('final goal:')\n",
        "        pprint(sess.evaluator.goal)\n",
        "        print('='*100)\n",
        "        break"
      ],
      "execution_count": 14,
      "outputs": [
        {
          "output_type": "stream",
          "text": [
            "init goal:\n",
            "{'attraction': {'info': {'area': 'centre', 'type': 'college'},\n",
            "                'reqt': {'entrance fee': '?', 'phone': '?'}},\n",
            " 'train': {'book': {'people': '7'},\n",
            "           'booked': '?',\n",
            "           'info': {'day': 'wednesday',\n",
            "                    'departure': 'cambridge',\n",
            "                    'destination': 'london kings cross',\n",
            "                    'leaveAt': '12:15'},\n",
            "           'reqt': {'duration': '?'}}}\n",
            "--------------------------------------------------\n",
            "user: {'Attraction-Inform': [['Type', 'college'], ['Area', 'centre']]}\n",
            "sys: There are 13 , anything in particular you are looking for ? I 'd recommend emmanuel college . would you like some information on it ?\n",
            "\n",
            "user: {'Attraction-Request': [['Phone', '?'], ['Fee', '?']]}\n",
            "sys: The phone number is 01223334900 . Their entrance fee is free by our system currently .\n",
            "\n",
            "user: {'Train-Inform': [['Depart', 'cambridge'], ['Day', 'wednesday'], ['Leave', '12:15'], ['Dest', 'london kings cross']]}\n",
            "sys: Would you like me to book you on the 12:15 train ? Would you like to take the train on wednesday ? Woudl you like me to book a train to london kings cross for you ? Woudl you like me to book a train from cambridge for you ?\n",
            "\n",
            "user: {'Train-Request': [['Time', '?']]}\n",
            "sys: 51 minutes would be the total duration .\n",
            "\n",
            "user: {'Train-Inform': [['People', '7']]}\n",
            "sys: Here is the booking information : booking was successful . reference number is : 00000024.\n",
            "\n",
            "user: {'general-bye': [['none', 'none']]}\n",
            "sys: Goodbye . if you think of anything else you need do n't hesitate to contact us .\n",
            "\n",
            "task success: 0\n",
            "book rate: 0.0\n",
            "inform precision/recall/f1: (1.0, 1.0, 1.0)\n",
            "--------------------------------------------------\n",
            "final goal:\n",
            "{'attraction': {'info': {'area': 'centre', 'type': 'college'},\n",
            "                'reqt': {'entrance fee': 'free', 'phone': '01223334900'}},\n",
            " 'train': {'book': {'people': '7'},\n",
            "           'booked': 'yes',\n",
            "           'info': {'day': 'wednesday',\n",
            "                    'departure': 'cambridge',\n",
            "                    'destination': 'london kings cross',\n",
            "                    'leaveAt': '12:15'},\n",
            "           'reqt': {'duration': '51 minutes'}}}\n",
            "====================================================================================================\n"
          ],
          "name": "stdout"
        }
      ]
    },
    {
      "cell_type": "markdown",
      "metadata": {
        "id": "E3WOc0rZaZaL",
        "colab_type": "text"
      },
      "source": [
        "After removing user NLG and system NLU, the conversation is more efficient."
      ]
    },
    {
      "cell_type": "markdown",
      "metadata": {
        "collapsed": true,
        "id": "G0_s-zNCzLs5",
        "colab_type": "text"
      },
      "source": [
        "## Try Different Module Combinations\n",
        "\n",
        "The combination modes of pipeline agent modules are flexible. We support joint model such as [MDBT](https://www.aclweb.org/anthology/P18-2069) (NLU+DST) and [MDRG](https://pdfs.semanticscholar.org/47d0/1eb59cd37d16201fcae964bd1d2b49cfb55e.pdf) (Policy+NLG), once the input and output are matched with previous and next module. We also support End2End model such as [Sequicity](https://www.comp.nus.edu.sg/~kanmy/papers/acl18-sequicity.pdf)."
      ]
    },
    {
      "cell_type": "markdown",
      "metadata": {
        "id": "ge5RMjEEzLs6",
        "colab_type": "text"
      },
      "source": [
        "### MDBT\n",
        "- NLU: None\n",
        "- DST: MDBT\n",
        "- Policy: Rule\n",
        "- NLG: TemplateNLG"
      ]
    },
    {
      "cell_type": "code",
      "metadata": {
        "id": "jX389QdrzLs6",
        "colab_type": "code",
        "colab": {
          "base_uri": "https://localhost:8080/",
          "height": 870
        },
        "outputId": "ddb7a2c7-790c-49c8-d690-6fc941152199"
      },
      "source": [
        "from tatk.dst.mdbt.multiwoz.mdbt import MultiWozMDBT\n",
        "nlu = None\n",
        "# simple rule DST\n",
        "dst = MultiWozMDBT()\n",
        "# rule policy\n",
        "policy = Rule()\n",
        "# template NLG\n",
        "nlg = TemplateNLG(is_user=False)\n",
        "# assemble\n",
        "sys_agent = PipelineAgent(nlu, dst, policy, nlg)"
      ],
      "execution_count": 15,
      "outputs": [
        {
          "output_type": "stream",
          "text": [
            "WARNING: Logging before flag parsing goes to stderr.\n",
            "W0822 07:47:49.780210 139773340759936 deprecation_wrapper.py:119] From /content/tatk/tatk/dst/mdbt/mdbt_util.py:62: The name tf.nn.rnn_cell.RNNCell is deprecated. Please use tf.compat.v1.nn.rnn_cell.RNNCell instead.\n",
            "\n",
            "100%|██████████| 262980414/262980414 [00:20<00:00, 12691259.66B/s]\n"
          ],
          "name": "stderr"
        },
        {
          "output_type": "stream",
          "text": [
            "Configuring MDBT model...\n"
          ],
          "name": "stdout"
        },
        {
          "output_type": "stream",
          "text": [
            "W0822 07:48:57.885578 139773340759936 deprecation_wrapper.py:119] From /content/tatk/tatk/dst/mdbt/mdbt_util.py:223: The name tf.placeholder is deprecated. Please use tf.compat.v1.placeholder instead.\n",
            "\n",
            "W0822 07:48:57.894057 139773340759936 deprecation_wrapper.py:119] From /content/tatk/tatk/dst/mdbt/mdbt_util.py:155: The name tf.variable_scope is deprecated. Please use tf.compat.v1.variable_scope instead.\n",
            "\n",
            "W0822 07:48:57.903185 139773340759936 deprecation.py:323] From /content/tatk/tatk/dst/mdbt/mdbt_util.py:162: LSTMCell.__init__ (from tensorflow.python.ops.rnn_cell_impl) is deprecated and will be removed in a future version.\n",
            "Instructions for updating:\n",
            "This class is equivalent as tf.keras.layers.LSTMCell, and will be replaced by that in Tensorflow 2.0.\n",
            "W0822 07:48:57.905097 139773340759936 deprecation.py:323] From /content/tatk/tatk/dst/mdbt/mdbt_util.py:173: bidirectional_dynamic_rnn (from tensorflow.python.ops.rnn) is deprecated and will be removed in a future version.\n",
            "Instructions for updating:\n",
            "Please use `keras.layers.Bidirectional(keras.layers.RNN(cell))`, which is equivalent to this API\n",
            "W0822 07:48:57.906973 139773340759936 deprecation.py:323] From /usr/local/lib/python3.6/dist-packages/tensorflow/python/ops/rnn.py:464: dynamic_rnn (from tensorflow.python.ops.rnn) is deprecated and will be removed in a future version.\n",
            "Instructions for updating:\n",
            "Please use `keras.layers.RNN(cell)`, which is equivalent to this API\n",
            "W0822 07:48:58.051792 139773340759936 deprecation.py:506] From /usr/local/lib/python3.6/dist-packages/tensorflow/python/ops/init_ops.py:1251: calling VarianceScaling.__init__ (from tensorflow.python.ops.init_ops) with dtype is deprecated and will be removed in a future version.\n",
            "Instructions for updating:\n",
            "Call initializer instance with the dtype argument instead of passing it to the constructor\n",
            "W0822 07:48:58.064747 139773340759936 deprecation.py:506] From /usr/local/lib/python3.6/dist-packages/tensorflow/python/ops/rnn_cell_impl.py:961: calling Zeros.__init__ (from tensorflow.python.ops.init_ops) with dtype is deprecated and will be removed in a future version.\n",
            "Instructions for updating:\n",
            "Call initializer instance with the dtype argument instead of passing it to the constructor\n",
            "W0822 07:48:58.766549 139773340759936 deprecation.py:323] From /usr/local/lib/python3.6/dist-packages/tensorflow/python/ops/rnn.py:244: add_dispatch_support.<locals>.wrapper (from tensorflow.python.ops.array_ops) is deprecated and will be removed in a future version.\n",
            "Instructions for updating:\n",
            "Use tf.where in 2.0, which has the same broadcast rule as np.where\n",
            "W0822 07:48:58.930871 139773340759936 deprecation.py:506] From /content/tatk/tatk/dst/mdbt/mdbt_util.py:262: calling dropout (from tensorflow.python.ops.nn_ops) with keep_prob is deprecated and will be removed in a future version.\n",
            "Instructions for updating:\n",
            "Please use `rate` instead of `keep_prob`. Rate should be set to `rate = 1 - keep_prob`.\n",
            "W0822 07:49:00.676995 139773340759936 deprecation_wrapper.py:119] From /content/tatk/tatk/dst/mdbt/mdbt_util.py:298: The name tf.random_normal is deprecated. Please use tf.random.normal instead.\n",
            "\n",
            "W0822 07:49:00.910310 139773340759936 deprecation_wrapper.py:119] From /content/tatk/tatk/dst/mdbt/mdbt_util.py:377: The name tf.diag is deprecated. Please use tf.linalg.tensor_diag instead.\n",
            "\n",
            "W0822 07:49:01.129873 139773340759936 deprecation_wrapper.py:119] From /content/tatk/tatk/dst/mdbt/mdbt_util.py:426: The name tf.matrix_set_diag is deprecated. Please use tf.linalg.set_diag instead.\n",
            "\n",
            "W0822 07:49:01.323589 139773340759936 deprecation.py:506] From /content/tatk/tatk/dst/mdbt/mdbt_util.py:457: calling reduce_max_v1 (from tensorflow.python.ops.math_ops) with keep_dims is deprecated and will be removed in a future version.\n",
            "Instructions for updating:\n",
            "keep_dims is deprecated, use keepdims instead\n",
            "W0822 07:49:09.134820 139773340759936 deprecation_wrapper.py:119] From /content/tatk/tatk/dst/mdbt/mdbt_util.py:473: The name tf.train.AdamOptimizer is deprecated. Please use tf.compat.v1.train.AdamOptimizer instead.\n",
            "\n",
            "W0822 07:49:29.870337 139773340759936 deprecation_wrapper.py:119] From /content/tatk/tatk/dst/mdbt/mdbt_util.py:522: The name tf.summary.scalar is deprecated. Please use tf.compat.v1.summary.scalar instead.\n",
            "\n",
            "W0822 07:49:29.939449 139773340759936 deprecation_wrapper.py:119] From /content/tatk/tatk/dst/mdbt/mdbt.py:71: The name tf.train.Saver is deprecated. Please use tf.compat.v1.train.Saver instead.\n",
            "\n",
            "W0822 07:49:30.109842 139773340759936 deprecation.py:323] From /usr/local/lib/python3.6/dist-packages/tensorflow/python/training/saver.py:1276: checkpoint_exists (from tensorflow.python.training.checkpoint_management) is deprecated and will be removed in a future version.\n",
            "Instructions for updating:\n",
            "Use standard file APIs to check for files with this prefix.\n"
          ],
          "name": "stderr"
        },
        {
          "output_type": "stream",
          "text": [
            "Loading trained MDBT model from  /content/tatk/tatk/dst/mdbt/multiwoz/configs/models/model-1\n"
          ],
          "name": "stdout"
        }
      ]
    },
    {
      "cell_type": "markdown",
      "metadata": {
        "id": "ywmBimGmzLs8",
        "colab_type": "text"
      },
      "source": [
        "### MDRG\n",
        "\n",
        "- NLU: SVM\n",
        "- DST: Rule\n",
        "- Policy: MDRG\n",
        "- NLG: None"
      ]
    },
    {
      "cell_type": "code",
      "metadata": {
        "id": "8f1JhaELzLs8",
        "colab_type": "code",
        "colab": {
          "base_uri": "https://localhost:8080/",
          "height": 255
        },
        "outputId": "9936fc6b-4186-4a37-d399-77beaf71784e"
      },
      "source": [
        "from tatk.policy.mdrg.multiwoz.policy import MDRGWordPolicy\n",
        "# svm nlu trained on usr sentence of multiwoz\n",
        "# go to README.md under `tatk/tatk/nlu/svm/multiwoz` for more information \n",
        "nlu = SVMNLU('usr',model_file=\"https://tatk-data.s3-ap-northeast-1.amazonaws.com/svm_multiwoz_usr.zip\")\n",
        "# simple rule DST\n",
        "dst = RuleDST()\n",
        "# rule policy\n",
        "policy = MDRGWordPolicy()\n",
        "# template NLG\n",
        "nlg = None\n",
        "# assemble\n",
        "sys_agent = PipelineAgent(nlu, dst, policy, nlg)"
      ],
      "execution_count": 16,
      "outputs": [
        {
          "output_type": "stream",
          "text": [
            "Downloading from:  https://tatk-data.s3-ap-northeast-1.amazonaws.com/mdrg_model.zip\n"
          ],
          "name": "stdout"
        },
        {
          "output_type": "stream",
          "text": [
            "100%|██████████| 21577107/21577107 [00:02<00:00, 8956227.09B/s]\n"
          ],
          "name": "stderr"
        },
        {
          "output_type": "stream",
          "text": [
            "Extracting...\n",
            "Downloading from:  https://tatk-data.s3-ap-northeast-1.amazonaws.com/mdrg_data.zip\n"
          ],
          "name": "stdout"
        },
        {
          "output_type": "stream",
          "text": [
            "100%|██████████| 47104409/47104409 [00:04<00:00, 9933537.88B/s] \n"
          ],
          "name": "stderr"
        },
        {
          "output_type": "stream",
          "text": [
            "Extracting...\n",
            "Downloading from:  https://tatk-data.s3-ap-northeast-1.amazonaws.com/mdrg_db.zip\n"
          ],
          "name": "stdout"
        },
        {
          "output_type": "stream",
          "text": [
            "100%|██████████| 183081/183081 [00:00<00:00, 379999.73B/s]\n"
          ],
          "name": "stderr"
        },
        {
          "output_type": "stream",
          "text": [
            "Extracting...\n",
            "[<tatk.nlu.svm.Features.nbest object at 0x7f1ebccd5048>]\n",
            "loading saved Classifier\n",
            "loaded.\n",
            "Model has 383900  parameters.\n",
            "Loading parameters of iter 1 \n"
          ],
          "name": "stdout"
        }
      ]
    },
    {
      "cell_type": "markdown",
      "metadata": {
        "collapsed": true,
        "id": "Ndki-MWnzLs9",
        "colab_type": "text"
      },
      "source": [
        "### Sequicity\n",
        "\n",
        "Sequicity inherits from interface `Agent` directly."
      ]
    },
    {
      "cell_type": "code",
      "metadata": {
        "id": "yEs1yzMYzLs-",
        "colab_type": "code",
        "colab": {
          "base_uri": "https://localhost:8080/",
          "height": 547
        },
        "outputId": "398a6896-bd4a-45ef-ecf0-132026c61d53"
      },
      "source": [
        "from tatk.e2e.sequicity.multiwoz import Sequicity\n",
        "sequicity = Sequicity()\n",
        "sys_agent = sequicity"
      ],
      "execution_count": 17,
      "outputs": [
        {
          "output_type": "stream",
          "text": [
            "[nltk_data] Downloading package stopwords to /root/nltk_data...\n",
            "[nltk_data]   Unzipping corpora/stopwords.zip.\n",
            "I0822 07:50:05.561878 139773340759936 connectionpool.py:813] Starting new HTTPS connection (1): tatk-data.s3-ap-northeast-1.amazonaws.com:443\n"
          ],
          "name": "stderr"
        },
        {
          "output_type": "stream",
          "text": [
            "down load data from https://tatk-data.s3-ap-northeast-1.amazonaws.com/sequicity_multiwoz_data.zip\n"
          ],
          "name": "stdout"
        },
        {
          "output_type": "stream",
          "text": [
            "I0822 07:50:06.239478 139773340759936 connectionpool.py:393] https://tatk-data.s3-ap-northeast-1.amazonaws.com:443 \"HEAD /sequicity_multiwoz_data.zip HTTP/1.1\" 200 0\n",
            "I0822 07:50:06.246556 139773340759936 allennlp_file_utils.py:284] https://tatk-data.s3-ap-northeast-1.amazonaws.com/sequicity_multiwoz_data.zip not found in cache, downloading to /tmp/tmpy9ivjabr\n",
            "I0822 07:50:06.249362 139773340759936 connectionpool.py:813] Starting new HTTPS connection (1): tatk-data.s3-ap-northeast-1.amazonaws.com:443\n",
            "I0822 07:50:06.981320 139773340759936 connectionpool.py:393] https://tatk-data.s3-ap-northeast-1.amazonaws.com:443 \"GET /sequicity_multiwoz_data.zip HTTP/1.1\" 200 74337337\n",
            "100%|██████████| 74337337/74337337 [00:06<00:00, 11831252.18B/s]\n",
            "I0822 07:50:13.274135 139773340759936 allennlp_file_utils.py:297] copying /tmp/tmpy9ivjabr to cache at /root/.tatk/cache/d0ee72a6516ccdffeac0b9d62526d5131c1a94c692c081268d4e4768204cf330.70856ee662e89468b1e185825920d6525c1c98cc1ce3e8a9d1da2ffca852b12c\n",
            "I0822 07:50:13.454905 139773340759936 allennlp_file_utils.py:301] creating metadata file for /root/.tatk/cache/d0ee72a6516ccdffeac0b9d62526d5131c1a94c692c081268d4e4768204cf330.70856ee662e89468b1e185825920d6525c1c98cc1ce3e8a9d1da2ffca852b12c\n",
            "I0822 07:50:13.456429 139773340759936 allennlp_file_utils.py:307] removing temp file /tmp/tmpy9ivjabr\n"
          ],
          "name": "stderr"
        },
        {
          "output_type": "stream",
          "text": [
            "unzip to /content/tatk/tatk/e2e/sequicity/multiwoz/\n"
          ],
          "name": "stdout"
        },
        {
          "output_type": "stream",
          "text": [
            "I0822 07:50:15.328531 139773340759936 connectionpool.py:813] Starting new HTTPS connection (1): tatk-data.s3-ap-northeast-1.amazonaws.com:443\n"
          ],
          "name": "stderr"
        },
        {
          "output_type": "stream",
          "text": [
            "Load from model_file param\n",
            "down load data from https://tatk-data.s3-ap-northeast-1.amazonaws.com/sequicity_multiwoz.zip\n"
          ],
          "name": "stdout"
        },
        {
          "output_type": "stream",
          "text": [
            "I0822 07:50:16.006468 139773340759936 connectionpool.py:393] https://tatk-data.s3-ap-northeast-1.amazonaws.com:443 \"HEAD /sequicity_multiwoz.zip HTTP/1.1\" 200 0\n",
            "I0822 07:50:16.014307 139773340759936 allennlp_file_utils.py:284] https://tatk-data.s3-ap-northeast-1.amazonaws.com/sequicity_multiwoz.zip not found in cache, downloading to /tmp/tmpt_sqtc0j\n",
            "I0822 07:50:16.017261 139773340759936 connectionpool.py:813] Starting new HTTPS connection (1): tatk-data.s3-ap-northeast-1.amazonaws.com:443\n",
            "I0822 07:50:16.718674 139773340759936 connectionpool.py:393] https://tatk-data.s3-ap-northeast-1.amazonaws.com:443 \"GET /sequicity_multiwoz.zip HTTP/1.1\" 200 4864058\n",
            "100%|██████████| 4864058/4864058 [00:01<00:00, 3359392.93B/s]\n",
            "I0822 07:50:18.178032 139773340759936 allennlp_file_utils.py:297] copying /tmp/tmpt_sqtc0j to cache at /root/.tatk/cache/b3c77908764e923c0c55e5c271c33fc92a3f8c2987a226c72cca8d2760c364b0.7f13568232dd1506e94bd76727cac23d303abeb923a2cc7e8a0a3bb1776fb086\n",
            "I0822 07:50:18.191380 139773340759936 allennlp_file_utils.py:301] creating metadata file for /root/.tatk/cache/b3c77908764e923c0c55e5c271c33fc92a3f8c2987a226c72cca8d2760c364b0.7f13568232dd1506e94bd76727cac23d303abeb923a2cc7e8a0a3bb1776fb086\n",
            "I0822 07:50:18.193126 139773340759936 allennlp_file_utils.py:307] removing temp file /tmp/tmpt_sqtc0j\n"
          ],
          "name": "stderr"
        },
        {
          "output_type": "stream",
          "text": [
            "unzip to /content/tatk/tatk/e2e/sequicity/multiwoz/output\n",
            "total trainable params: 1717950\n"
          ],
          "name": "stdout"
        },
        {
          "output_type": "stream",
          "text": [
            "/usr/local/lib/python3.6/dist-packages/torch/nn/modules/rnn.py:54: UserWarning: dropout option adds dropout after all but last recurrent layer, so non-zero dropout expects num_layers greater than 1, but got dropout=0.5 and num_layers=1\n",
            "  \"num_layers={}\".format(dropout, num_layers))\n",
            "/content/tatk/tatk/e2e/sequicity/tsd_net.py:56: UserWarning: nn.init.orthogonal is now deprecated in favor of nn.init.orthogonal_.\n",
            "  torch.nn.init.orthogonal(hh[i:i+gru.hidden_size],gain=1)\n"
          ],
          "name": "stderr"
        }
      ]
    }
  ]
}