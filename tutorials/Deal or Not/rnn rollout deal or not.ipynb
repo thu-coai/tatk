{
 "cells": [
  {
   "cell_type": "markdown",
   "metadata": {},
   "source": [
    "## Deal or Not\n",
    "Deal or not is a bilateral object-division negotiation dialog dataset ([Lewis et al., 2017](https://www.aclweb.org/anthology/D17-1259)). In this dataset, the two players are supposed to interact with each other using natural language utterances to divide some object. Note that each type of objects may worth different values for each agent. The target of each agent is to get as many values as possible.\n",
    "\n",
    "To make the code more flexible to be used as a module in our Tatk framework, we adopted the [original code](https://github.com/facebookresearch/end-to-end-negotiator)."
   ]
  },
  {
   "cell_type": "markdown",
   "metadata": {},
   "source": [
    "## Getting Started\n",
    "In this section, will demonstrate how we implemented the code and how to use it.\n",
    "### Interface\n",
    "The model of Deal or Not (```DealornotAgent```) is defined in ```tatk/e2e/rnn_rollout/deal_or_not/model.py``` by inheriting the ```RNNRolloutAgent``` defined in ```tatk/e2e/rnn_rollout/rnnrollout.py```. in the ```__init__()``` method, the data and pretrained model of Deal or Not dataset is loaded and feed into ```RNNRolloutAgent```."
   ]
  },
  {
   "cell_type": "code",
   "execution_count": null,
   "metadata": {},
   "outputs": [],
   "source": [
    "class DealornotAgent(RNNRolloutAgent):\n",
    "    \"\"\"The Rnn Rollout model for DealorNot dataset.\"\"\"\n",
    "    def __init__(self, name, args, sel_args, train=False, diverse=False, max_total_len=100):\n",
    "        self.config_path = os.path.join(os.path.split(os.path.realpath(__file__))[0], 'configs')\n",
    "        self.data_path = os.path.join(get_root_path(), args.data)\n",
    "        domain = get_domain(args.domain)\n",
    "        corpus = RnnModel.corpus_ty(domain, self.data_path, freq_cutoff=args.unk_threshold, verbose=True,\n",
    "                                    sep_sel=args.sep_sel)\n",
    "\n",
    "        model = RnnModel(corpus.word_dict, corpus.item_dict_old,\n",
    "                         corpus.context_dict, corpus.count_dict, args)\n",
    "        state_dict = utils.load_model(os.path.join(self.config_path, args.model_file))  # RnnModel\n",
    "        model.load_state_dict(state_dict)\n",
    "\n",
    "        sel_model = SelectionModel(corpus.word_dict, corpus.item_dict_old,\n",
    "                                   corpus.context_dict, corpus.count_dict, sel_args)\n",
    "        sel_state_dict = utils.load_model(os.path.join(self.config_path, sel_args.selection_model_file))\n",
    "        sel_model.load_state_dict(sel_state_dict)\n",
    "\n",
    "        super(DealornotAgent, self).__init__(model, sel_model, args, name, train, diverse, max_total_len)\n",
    "        self.vis = args.visual"
   ]
  },
  {
   "cell_type": "markdown",
   "metadata": {},
   "source": [
    "### Method\n",
    "The core method of ```DealornotAgent``` is ```response()```, which takes as input a user utterance (str) and returns the natural utterance response of system."
   ]
  },
  {
   "cell_type": "markdown",
   "metadata": {},
   "source": [
    "## Run the Code\n",
    "If you run the code of ```DealornotAgent```, you can run ```tests/e2e/rnn_rollout/test_deal_or_not.py``` under its path. In this script, we used the framework of Tatk, including ```Session``` and ```Agent```. The example model and experimental parameters are also defined. The responses utterance of both agents will be displayed."
   ]
  }
 ],
 "metadata": {
  "kernelspec": {
   "display_name": "Python 3",
   "language": "python",
   "name": "python3"
  },
  "language_info": {
   "codemirror_mode": {
    "name": "ipython",
    "version": 3
   },
   "file_extension": ".py",
   "mimetype": "text/x-python",
   "name": "python",
   "nbconvert_exporter": "python",
   "pygments_lexer": "ipython3",
   "version": "3.7.1"
  }
 },
 "nbformat": 4,
 "nbformat_minor": 2
}
