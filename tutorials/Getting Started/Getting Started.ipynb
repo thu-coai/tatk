{
 "cells": [
  {
   "cell_type": "markdown",
   "metadata": {},
   "source": [
    "# Getting Started\n",
    "\n",
    "In this tutorial, you will know how to\n",
    "- use the models in **tatk** to build a dialog agent.\n",
    "- build a simulator to chat with the agent.\n",
    "- try different module combinations.\n",
    "\n",
    "Let's get started!"
   ]
  },
  {
   "cell_type": "markdown",
   "metadata": {},
   "source": [
    "## Build an agent\n",
    "\n",
    "We use the models adapted on [Multiwoz dataset](https://www.aclweb.org/anthology/D18-1547) to build our agent. This pipeline agent consists of NLU, DST, Policy and NLG modules.\n",
    "\n",
    "First, import some models:"
   ]
  },
  {
   "cell_type": "code",
   "execution_count": 1,
   "metadata": {},
   "outputs": [],
   "source": [
    "import sys\n",
    "import os\n",
    "# Agent\n",
    "from tatk.dialog_agent import PipelineAgent, BiSession\n",
    "# common import: tatk.$module.$model.$dataset\n",
    "from tatk.nlu.svm.multiwoz import SVMNLU\n",
    "from tatk.nlu.bert.multiwoz import BERTNLU\n",
    "from tatk.dst.rule.multiwoz import RuleDST\n",
    "from tatk.policy.rule.multiwoz import Rule\n",
    "from tatk.nlg.template_nlg.multiwoz import TemplateNLG"
   ]
  },
  {
   "cell_type": "markdown",
   "metadata": {},
   "source": [
    "Then, create the models and build an agent:"
   ]
  },
  {
   "cell_type": "code",
   "execution_count": 2,
   "metadata": {},
   "outputs": [
    {
     "name": "stdout",
     "output_type": "stream",
     "text": [
      "[<tatk.nlu.svm.Features.nbest object at 0x7f2e75f1c710>]\n",
      "loading saved Classifier\n",
      "/home/zhuqi/Codes/tatk/tatk/nlu/svm/multiwoz/model/svm_multiwoz_usr.pickle\n",
      "loaded.\n"
     ]
    }
   ],
   "source": [
    "# svm nlu trained on usr sentence of multiwoz\n",
    "# go to README.md under `tatk/tatk/nlu/svm/multiwoz` for more information \n",
    "nlu = SVMNLU('usr',model_file=\"https://tatk-data.s3-ap-northeast-1.amazonaws.com/svm_multiwoz_usr.zip\")\n",
    "# simple rule DST\n",
    "dst = RuleDST()\n",
    "# rule policy\n",
    "policy = Rule(character='sys')\n",
    "# template NLG\n",
    "nlg = TemplateNLG(is_user=False)\n",
    "# assemble\n",
    "sys_agent = PipelineAgent(nlu, dst, policy, nlg)"
   ]
  },
  {
   "cell_type": "markdown",
   "metadata": {},
   "source": [
    "That's all! Let's chat with the agent using its `response` function:"
   ]
  },
  {
   "cell_type": "code",
   "execution_count": 3,
   "metadata": {},
   "outputs": [
    {
     "data": {
      "text/plain": [
       "'There are 18 of those . How about acorn guest house ? fits your request perfectly .'"
      ]
     },
     "execution_count": 3,
     "metadata": {},
     "output_type": "execute_result"
    }
   ],
   "source": [
    "sys_agent.response(\"I want to find a moderate hotel\")"
   ]
  },
  {
   "cell_type": "code",
   "execution_count": 4,
   "metadata": {},
   "outputs": [
    {
     "data": {
      "text/plain": [
       "'It is a guesthouse .'"
      ]
     },
     "execution_count": 4,
     "metadata": {},
     "output_type": "execute_result"
    }
   ],
   "source": [
    "sys_agent.response(\"Which type of hotel is it ?\")"
   ]
  },
  {
   "cell_type": "code",
   "execution_count": 5,
   "metadata": {},
   "outputs": [
    {
     "data": {
      "text/plain": [
       "'They are located at pool way, whitehill road, off newmarket road .'"
      ]
     },
     "execution_count": 5,
     "metadata": {},
     "output_type": "execute_result"
    }
   ],
   "source": [
    "sys_agent.response(\"OK , where is its address ?\")"
   ]
  },
  {
   "cell_type": "code",
   "execution_count": 6,
   "metadata": {},
   "outputs": [
    {
     "data": {
      "text/plain": [
       "'Welcome , it was a pleasure serving you .'"
      ]
     },
     "execution_count": 6,
     "metadata": {},
     "output_type": "execute_result"
    }
   ],
   "source": [
    "sys_agent.response(\"Thank you !\")"
   ]
  },
  {
   "cell_type": "code",
   "execution_count": 7,
   "metadata": {},
   "outputs": [
    {
     "data": {
      "text/plain": [
       "'I have 3 different restaurants i can give you some information for . they are all pretty good . Peking restaurant matches your description . They are located at 10 homerton street city centre.'"
      ]
     },
     "execution_count": 7,
     "metadata": {},
     "output_type": "execute_result"
    }
   ],
   "source": [
    "sys_agent.response(\"Try to find me a Chinese restaurant in south area .\")"
   ]
  },
  {
   "cell_type": "code",
   "execution_count": 8,
   "metadata": {},
   "outputs": [
    {
     "data": {
      "text/plain": [
       "'They serve chinese .'"
      ]
     },
     "execution_count": 8,
     "metadata": {},
     "output_type": "execute_result"
    }
   ],
   "source": [
    "sys_agent.response(\"Which kind of food it provides ?\")"
   ]
  },
  {
   "cell_type": "code",
   "execution_count": 9,
   "metadata": {},
   "outputs": [
    {
     "data": {
      "text/plain": [
       "'Reference number is : 00000003 .'"
      ]
     },
     "execution_count": 9,
     "metadata": {},
     "output_type": "execute_result"
    }
   ],
   "source": [
    "sys_agent.response(\"Book a table for 5 , this Sunday .\")"
   ]
  },
  {
   "cell_type": "markdown",
   "metadata": {},
   "source": [
    "## Build a Simulator to Chat with the Agent\n",
    "\n",
    "In many one-to-one task-oriented dialog system, a simulator is essential to train an RL agent. In our framework, we doesn't distinguish user or system, all speakers are **agents**. The simulator is also an agent, with specific policy inside for accomplishing the user goal.\n",
    "\n",
    "We use Agenda policy for the simulator, this policy requires dialog act input, which means we should set DST argument of `PipelineAgent` to `None`. Then the `PipelineAgent` will pass dialog act to policy directly. Refer to `PipelineAgent` doc for more details."
   ]
  },
  {
   "cell_type": "code",
   "execution_count": 11,
   "metadata": {},
   "outputs": [
    {
     "name": "stdout",
     "output_type": "stream",
     "text": [
      "Load from /home/zhuqi/Codes/tatk/tatk/nlu/bert/multiwoz/output/sys/bestcheckpoint.tar\n",
      "train step 18600\n",
      "BERTNLU loaded\n",
      "Loading goal model is done\n"
     ]
    }
   ],
   "source": [
    "# bert nlu trained on sys sentence of multiwoz\n",
    "# go to README.md under `tatk/tatk/nlu/bert/multiwoz` for more information \n",
    "nlu = BERTNLU('sys',model_file=\"https://tatk-data.s3-ap-northeast-1.amazonaws.com/bert_multiwoz_sys.zip\")\n",
    "# not use dst\n",
    "dst = None\n",
    "# rule policy\n",
    "policy = Rule(character='usr')\n",
    "# template NLG\n",
    "nlg = TemplateNLG(is_user=True)\n",
    "# assemble\n",
    "simulator = PipelineAgent(nlu, dst, policy, nlg)"
   ]
  },
  {
   "cell_type": "markdown",
   "metadata": {},
   "source": [
    "Now we have a simulator and an agent. we will use an existed simple one-to-one conversation controller `BiSession`, you can also define your own Session class for your special need."
   ]
  },
  {
   "cell_type": "code",
   "execution_count": 12,
   "metadata": {
    "collapsed": true
   },
   "outputs": [],
   "source": [
    "sess = BiSession(sys_agent, simulator, None)"
   ]
  },
  {
   "cell_type": "markdown",
   "metadata": {},
   "source": [
    "Let's make this two agents chat! The key is `next_turn` method of Session class."
   ]
  },
  {
   "cell_type": "code",
   "execution_count": 13,
   "metadata": {},
   "outputs": [
    {
     "name": "stdout",
     "output_type": "stream",
     "text": [
      "user: I need to travel on thursday .\n",
      "sys: What time do you want to depart ? Is there a time you need to arrive by ? Where are you heading to ? Where will you be traveling from ?\n",
      "reward: -1.0\n",
      "user: I need a train going to cambridge . The train should leave on thursday . I need it to depart from cambridge .\n",
      "sys: When would you like the train to depart ?\n",
      "reward: -1.0\n",
      "user: I 'd like to arrive by 17:15 .\n",
      "sys: The car arriving will be a honda . The contact number is 24pw58dkk65 .\n",
      "reward: -1.0\n",
      "user: Can you tell me the price ? Could you comfirm the departure time of that train ?\n",
      "sys: I would say you should leave by 05:00. It would cost 23.60 pounds .\n",
      "reward: -1.0\n",
      "user: What is the departure time ?\n",
      "sys: I would say you should leave by 05:00.\n",
      "reward: -1.0\n",
      "user: I want to get there by 17:15 at the latest .\n",
      "sys: Reference number is : 00000000 .\n",
      "reward: -1.0\n",
      "user: What is the departure time ?\n",
      "sys: I have a train leaving at 05:00 would that be okay ?\n",
      "reward: -1.0\n",
      "user: Also , thanks for the apology . i do n't need anything else at this time .\n",
      "sys: You are welcome.\n",
      "reward: -1.0\n",
      "user: I 'd like a cheap priced one .\n",
      "sys: I have 22 options for you !. How about la margherita ?\n",
      "reward: -1.0\n",
      "user: Can you give me the address ?\n",
      "sys: The address is regent street city centre .\n",
      "reward: -1.0\n",
      "user: Thank you very much , goodbye .\n",
      "sys: Okay ! glad i could help . enjoy your stay .\n",
      "reward: 80.0\n"
     ]
    }
   ],
   "source": [
    "sys_response = 'null'\n",
    "sess.init_session()\n",
    "for i in range(30):\n",
    "    sys_response, user_response, session_over, reward = sess.next_turn(sys_response)\n",
    "    print('user:', user_response)\n",
    "    print('sys:', sys_response)\n",
    "    print('reward:', reward)\n",
    "    if session_over is True:\n",
    "        break"
   ]
  },
  {
   "cell_type": "markdown",
   "metadata": {
    "collapsed": true
   },
   "source": [
    "## Try Different Module Combinations\n",
    "\n",
    "The combination modes of pipeline agent modules are flexible. We support joint model such as [MDBT](https://www.aclweb.org/anthology/P18-2069) (NLU+DST) and [MDRG](https://pdfs.semanticscholar.org/47d0/1eb59cd37d16201fcae964bd1d2b49cfb55e.pdf) (Policy+NLG), once the input and output are matched with previous and next module. We also support End2End model such as [Sequicity](https://www.comp.nus.edu.sg/~kanmy/papers/acl18-sequicity.pdf)."
   ]
  },
  {
   "cell_type": "markdown",
   "metadata": {},
   "source": [
    "### MDBT\n",
    "- NLU: None\n",
    "- DST: MDBT\n",
    "- Policy: Rule\n",
    "- NLG: TemplateNLG"
   ]
  },
  {
   "cell_type": "code",
   "execution_count": null,
   "metadata": {},
   "outputs": [],
   "source": [
    "from tatk.dst.mdbt.multiwoz.mdbt import MultiWozMDBT\n",
    "nlu = None\n",
    "# simple rule DST\n",
    "dst = MultiWozMDBT()\n",
    "# rule policy\n",
    "policy = Rule()\n",
    "# template NLG\n",
    "nlg = TemplateNLG(is_user=False)\n",
    "# assemble\n",
    "sys_agent = PipelineAgent(nlu, dst, policy, nlg)"
   ]
  },
  {
   "cell_type": "markdown",
   "metadata": {},
   "source": [
    "### MDRG\n",
    "\n",
    "- NLU: SVM\n",
    "- DST: Rule\n",
    "- Policy: MDRG\n",
    "- NLG: None"
   ]
  },
  {
   "cell_type": "code",
   "execution_count": null,
   "metadata": {},
   "outputs": [],
   "source": [
    "from tatk.policy.mdrg.multiwoz.policy import MDRGWordPolicy\n",
    "# svm nlu trained on usr sentence of multiwoz\n",
    "# go to README.md under `tatk/tatk/nlu/svm/multiwoz` for more information \n",
    "nlu = SVMNLU('usr',model_file=\"https://tatk-data.s3-ap-northeast-1.amazonaws.com/svm_multiwoz_usr.zip\")\n",
    "# simple rule DST\n",
    "dst = RuleDST()\n",
    "# rule policy\n",
    "policy = MDRGWordPolicy()\n",
    "# template NLG\n",
    "nlg = None\n",
    "# assemble\n",
    "sys_agent = PipelineAgent(nlu, dst, policy, nlg)"
   ]
  },
  {
   "cell_type": "markdown",
   "metadata": {
    "collapsed": true
   },
   "source": [
    "### Sequicity\n",
    "\n",
    "Sequicity inherits from interface `Agent` directly."
   ]
  },
  {
   "cell_type": "code",
   "execution_count": null,
   "metadata": {},
   "outputs": [],
   "source": [
    "from tatk.e2e.sequicity.multiwoz import Sequicity\n",
    "sequicity = Sequicity()\n",
    "sys_agent = sequicity"
   ]
  }
 ],
 "metadata": {
  "kernelspec": {
   "display_name": "Python [conda env:tasktk]",
   "language": "python",
   "name": "conda-env-tasktk-py"
  },
  "language_info": {
   "codemirror_mode": {
    "name": "ipython",
    "version": 3
   },
   "file_extension": ".py",
   "mimetype": "text/x-python",
   "name": "python",
   "nbconvert_exporter": "python",
   "pygments_lexer": "ipython3",
   "version": "3.6.7"
  }
 },
 "nbformat": 4,
 "nbformat_minor": 2
}
