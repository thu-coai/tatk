{
 "cells": [
  {
   "cell_type": "markdown",
   "metadata": {},
   "source": [
    "# Add NLU model\n",
    "\n",
    "we will take BERTNLU as an example to show how to add new NLU model to **tatk**.\n",
    "\n",
    "To add this model, you should place the data-independent part under `tatk/tatk/nlu/bert` directory. Those files that are relavant to data should be placed under `tatk/tatk/nlu/bert/camrest`."
   ]
  },
  {
   "cell_type": "markdown",
   "metadata": {},
   "source": [
    "## NLU interface\n",
    "\n",
    "To make the new model consistent with **tatk**, we should follow the NLU interface definition in `tatk/nlu/nlu.py`. The key function is `predict` which takes an utterance(str) as input and return the dialog act. The dialog act format is depended on specific dataset. For camrest dataset, it looks like `{\"inform\": [[\"food\",\"brazilian\"],[\"area\",\"north\"]]}`"
   ]
  },
  {
   "cell_type": "code",
   "execution_count": 1,
   "metadata": {
    "collapsed": true
   },
   "outputs": [],
   "source": [
    "\"\"\"Natural language understanding interface.\"\"\"\n",
    "from abc import ABCMeta, abstractmethod\n",
    "\n",
    "class NLU(metaclass=ABCMeta):\n",
    "    \"\"\"NLU module interface.\"\"\"\n",
    "\n",
    "    @abstractmethod\n",
    "    def predict(self, utterance):\n",
    "        \"\"\"\n",
    "        Predict the dialog act of a natural language utterance.\n",
    "        \n",
    "        Args:\n",
    "            utterance (str): A natural language utterance.\n",
    "        Returns:\n",
    "            output (dict): The dialog act of utterance.\n",
    "        \"\"\"\n",
    "        pass"
   ]
  },
  {
   "cell_type": "markdown",
   "metadata": {},
   "source": [
    "## Add New Model\n",
    "\n",
    "In order to add new Model to **tatk**, we should inherit the `NLU` class above. Here is a piece from BERTNLU. This file should be place under `tatk/tatk/nlu/bert/camrest`. Thus we can use `from tatk.nlu.bert.camrest import BERTNLU` to import the new model."
   ]
  },
  {
   "cell_type": "code",
   "execution_count": 2,
   "metadata": {},
   "outputs": [],
   "source": [
    "class BERTNLU(NLU):\n",
    "    def __init__(self, mode, model_file):\n",
    "        ## model initialization here, feel free to change the arguments\n",
    "        self.model = BertNLU()\n",
    "\n",
    "    def predict(self, utterance):\n",
    "        return self.model.predict()"
   ]
  },
  {
   "cell_type": "markdown",
   "metadata": {},
   "source": [
    "# Add DST model\n",
    "\n",
    "we will take RuleDST as an example to show how to add new DST model to **tatk**.\n",
    "\n",
    "To add this model, you should place the data-independent part under `tatk/tatk/dst/rule` directory. Those files that are relavant to data should be placed under `tatk/tatk/dst/rule/camrest`."
   ]
  },
  {
   "cell_type": "markdown",
   "metadata": {},
   "source": [
    "## DST interface\n",
    "\n",
    "To make the new model consistent with **tatk**, we should follow the DST interface definition in `tatk/dst/state_tracker.py`. The key function is `update` which takes dialog_act(dict) as input, update the `state` attribute and return it. The state format is depended on specific dataset. For camrest dataset, it is defined in `tatk/tatk/util/camrest/state.py`."
   ]
  },
  {
   "cell_type": "code",
   "execution_count": 3,
   "metadata": {},
   "outputs": [],
   "source": [
    "class Tracker(metaclass=ABCMeta):\n",
    "    \"\"\"Base class for dialog state tracker models.\"\"\"\n",
    "\n",
    "    @abstractmethod\n",
    "    def update(self, dialog_act):\n",
    "        \"\"\" Update the internal dialog state variable.\n",
    "\n",
    "        Args:\n",
    "            dialog_act (str or dict):\n",
    "                The type is str when Tracker is word-level (such as NBT), and dict when it is DA-level.\n",
    "        Returns:\n",
    "            new_state (tuple):\n",
    "                Updated dialog state, with the same form of previous state.\n",
    "        \"\"\"\n",
    "        pass\n",
    "\n",
    "    @abstractmethod\n",
    "    def init_session(self):\n",
    "        pass"
   ]
  },
  {
   "cell_type": "markdown",
   "metadata": {},
   "source": [
    "## Add New Model\n",
    "\n",
    "In order to add new Model to **tatk**, we should inherit the `Tracker` class above. This file should be place under `tatk/tatk/dst/rule/camrest`. Thus we can use `from tatk.dst.rule.camrest import RuleDST` to import the new model."
   ]
  },
  {
   "cell_type": "code",
   "execution_count": 4,
   "metadata": {},
   "outputs": [],
   "source": [
    "from tatk.util.camrest.state import default_state\n",
    "\n",
    "class RuleDST(Tracker):\n",
    "    def __init__(self):\n",
    "        ## model initialization here, feel free to change the arguments\n",
    "        self.state = default_state()\n",
    "\n",
    "    def update(self, user_act=None):\n",
    "        # modify self.state\n",
    "        return copy.deepcopy(self.state)\n",
    "    \n",
    "    def init_session(self):\n",
    "        \"\"\"Initialize ``self.state`` with a default state, which ``tatk.util.camrest.state.default_state`` returns.\"\"\"\n",
    "        self.state = default_state()"
   ]
  },
  {
   "cell_type": "markdown",
   "metadata": {
    "collapsed": true
   },
   "source": [
    "# Add Policy Model\n",
    "\n",
    "we will take Rule policy as an example to show how to add new Policy model to **tatk**.\n",
    "\n",
    "To add this model, you should place the data-independent part under `tatk/tatk/policy/rule` directory. Those files that are relavant to data should be placed under `tatk/tatk/policy/rule/camrest`."
   ]
  },
  {
   "cell_type": "markdown",
   "metadata": {},
   "source": [
    "## DST interface\n",
    "\n",
    "To make the new model consistent with **tatk**, we should follow the Policy interface definition in `tatk/policy/policy.py`. The key function is `predict` which takes state(dict) as input and outputs dialog act. The state format is depended on specific dataset. For camrest dataset, it is defined in `tatk/tatk/util/camrest/state.py`."
   ]
  },
  {
   "cell_type": "code",
   "execution_count": 5,
   "metadata": {
    "collapsed": true
   },
   "outputs": [],
   "source": [
    "class Policy(metaclass=ABCMeta):\n",
    "    \"\"\"Base class for policy model.\"\"\"\n",
    "\n",
    "    @abstractmethod\n",
    "    def predict(self, state):\n",
    "        \"\"\"Predict the next agent action given dialog state.\n",
    "        \n",
    "        Args:\n",
    "            state (tuple or dict):\n",
    "                when the DST and Policy module are separated, the type of state is tuple.\n",
    "                else when they are aggregated together, the type of state is dict (dialog act).\n",
    "        Returns:\n",
    "            action (dict):\n",
    "                The next dialog action.\n",
    "        \"\"\"\n",
    "        pass\n",
    "\n",
    "    @abstractmethod\n",
    "    def init_session(self):\n",
    "        \"\"\"Init the class variables for a new session.\"\"\"\n",
    "        pass"
   ]
  },
  {
   "cell_type": "markdown",
   "metadata": {},
   "source": [
    "## Add New Model\n",
    "\n",
    "In order to add new Model to **tatk**, we should inherit the `Policy` class above. This file should be place under `tatk/tatk/policy/rule/camrest`. Thus we can use `from tatk.policy.rule.camrest import Rule` to import the new model."
   ]
  },
  {
   "cell_type": "code",
   "execution_count": 6,
   "metadata": {
    "collapsed": true
   },
   "outputs": [],
   "source": [
    "class Rule(Policy):\n",
    "    def __init__(self, is_train=False, character='sys'):\n",
    "        ## model initialization here, feel free to change the arguments\n",
    "        self.policy = RulePolicy()\n",
    "        \n",
    "    def predict(self, state):\n",
    "        action = self.policy.predict(state)\n",
    "        return action\n",
    "\n",
    "    def init_session(self):\n",
    "        pass"
   ]
  },
  {
   "cell_type": "markdown",
   "metadata": {},
   "source": [
    "# Add NLG Model\n",
    "\n",
    "we will take TemplateNLG as an example to show how to add new NLG model to **tatk**.\n",
    "\n",
    "To add this model, you should place the data-independent part under `tatk/tatk/nlg/template_nlg` directory. Those files that are relavant to data should be placed under `tatk/tatk/nlg/template_nlg/camrest`."
   ]
  },
  {
   "cell_type": "markdown",
   "metadata": {},
   "source": [
    "## NLG interface\n",
    "\n",
    "To make the new model consistent with **tatk**, we should follow the NLU interface definition in `tatk/nlg/nlg.py`. The key function is `generate` which takes the dialog act as input and return an utterance(str). The dialog act format is depended on specific dataset. For camrest dataset, it looks like `{\"inform\": [[\"food\",\"brazilian\"],[\"area\",\"north\"]]}`"
   ]
  },
  {
   "cell_type": "code",
   "execution_count": 7,
   "metadata": {
    "collapsed": true
   },
   "outputs": [],
   "source": [
    "class NLG(metaclass=ABCMeta):\n",
    "    \"\"\"Base class for NLG model.\"\"\"\n",
    "\n",
    "    @abstractmethod\n",
    "    def generate(self, action):\n",
    "        \"\"\"Generate a natural language utterance conditioned on the dialog act.\n",
    "        \n",
    "        Args:\n",
    "            action (dict):\n",
    "                The dialog action produced by dialog policy module, which is in dialog act format.\n",
    "        Returns:\n",
    "            response (str):\n",
    "                A natural langauge utterance.\n",
    "        \"\"\"\n",
    "        pass"
   ]
  },
  {
   "cell_type": "markdown",
   "metadata": {},
   "source": [
    "## Add New Model\n",
    "\n",
    "In order to add new Model to **tatk**, we should inherit the `NLG` class above. This file should be place under `tatk/tatk/nlg/template_nlg/camrest`. Thus we can use `from tatk.nlg.template_nlg.camrest import TemplateNLG` to import the new model."
   ]
  },
  {
   "cell_type": "code",
   "execution_count": 8,
   "metadata": {
    "collapsed": true
   },
   "outputs": [],
   "source": [
    "class TemplateNLG(NLG):\n",
    "    def __init__(self, is_user, mode=\"manual\"):\n",
    "        ## model initialization here, feel free to change the arguments\n",
    "        self.template = Template(is_user)\n",
    "\n",
    "    def generate(self, dialog_acts):\n",
    "        return self.template.generate()"
   ]
  },
  {
   "cell_type": "markdown",
   "metadata": {},
   "source": [
    "# Add End2End Model\n",
    "\n",
    "we will take Sequicity as an example to show how to add new End-to-End model to **tatk**.\n",
    "\n",
    "To add this model, you should place the data-independent part under `tatk/tatk/e2e/sequicity` directory. Those files that are relavant to data should be placed under `tatk/tatk/e2e/sequicity/camrest`."
   ]
  },
  {
   "cell_type": "markdown",
   "metadata": {},
   "source": [
    "## End2End interface\n",
    "\n",
    "To make the new model consistent with **tatk**, we should follow the `Agent` interface definition in `tatk/dialog_agent/agent.py`. The key function is `response` which takes an utterance(str) as input and return an utterance(str). "
   ]
  },
  {
   "cell_type": "code",
   "execution_count": 9,
   "metadata": {
    "collapsed": true
   },
   "outputs": [],
   "source": [
    "class Agent(metaclass=ABCMeta):\n",
    "    \"\"\"Interface for dialog agent classes.\"\"\"\n",
    "\n",
    "    @abstractmethod\n",
    "    def response(self, observation):\n",
    "        \"\"\"Generate agent response given user input.\n",
    "\n",
    "        The data type of input and response can be either str or dict, condition on the form of agent.\n",
    "\n",
    "        Example:\n",
    "            If the agent is a pipeline agent with NLU, DST and Policy, then type(input) == str and\n",
    "            type(response) == dict.\n",
    "        Args:\n",
    "            observation (str or dict):\n",
    "                The input to the agent.\n",
    "        Returns:\n",
    "            response (str or dict):\n",
    "                The response generated by the agent.\n",
    "        \"\"\"\n",
    "        pass\n",
    "\n",
    "    @abstractmethod\n",
    "    def init_session(self):\n",
    "        \"\"\"Reset the class variables to prepare for a new session.\"\"\"\n",
    "        pass"
   ]
  },
  {
   "cell_type": "markdown",
   "metadata": {},
   "source": [
    "## Add New Model\n",
    "\n",
    "In order to add new Model to **tatk**, we should inherit the `Agent` class above. This file should be place under `tatk/tatk/e2e/sequicity/camrest`. Thus we can use `from tatk.e2e.sequicity.multiwoz import Sequicity` to import the new model."
   ]
  },
  {
   "cell_type": "code",
   "execution_count": 10,
   "metadata": {},
   "outputs": [],
   "source": [
    "class Sequicity(Agent):\n",
    "    def __init__(self, model_file=None):\n",
    "        self.init_session()\n",
    "        \n",
    "    def response(self, usr):\n",
    "        return self.generate(usr)\n",
    "        \n",
    "    def init_session(self):\n",
    "        self.belief_span = init()"
   ]
  },
  {
   "cell_type": "code",
   "execution_count": null,
   "metadata": {
    "collapsed": true
   },
   "outputs": [],
   "source": []
  }
 ],
 "metadata": {
  "kernelspec": {
   "display_name": "Python [conda env:tasktk]",
   "language": "python",
   "name": "conda-env-tasktk-py"
  },
  "language_info": {
   "codemirror_mode": {
    "name": "ipython",
    "version": 3
   },
   "file_extension": ".py",
   "mimetype": "text/x-python",
   "name": "python",
   "nbconvert_exporter": "python",
   "pygments_lexer": "ipython3",
   "version": "3.6.7"
  }
 },
 "nbformat": 4,
 "nbformat_minor": 2
}
